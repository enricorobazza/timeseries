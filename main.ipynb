{
 "cells": [
  {
   "cell_type": "code",
   "execution_count": 2,
   "metadata": {},
   "outputs": [
    {
     "name": "stdout",
     "output_type": "stream",
     "text": [
      "The autoreload extension is already loaded. To reload it, use:\n",
      "  %reload_ext autoreload\n"
     ]
    }
   ],
   "source": [
    "%load_ext autoreload\n",
    "%autoreload 2"
   ]
  },
  {
   "cell_type": "code",
   "execution_count": 15,
   "metadata": {},
   "outputs": [
    {
     "name": "stdout",
     "output_type": "stream",
     "text": [
      "Requirement already satisfied: absl-py==1.0.0 in ./.venv/lib/python3.9/site-packages (from -r requirements.txt (line 1)) (1.0.0)\n",
      "Requirement already satisfied: am4894plots==0.2.0 in ./.venv/lib/python3.9/site-packages (from -r requirements.txt (line 2)) (0.2.0)\n",
      "Requirement already satisfied: anyio==3.5.0 in ./.venv/lib/python3.9/site-packages (from -r requirements.txt (line 3)) (3.5.0)\n",
      "Requirement already satisfied: appnope==0.1.2 in ./.venv/lib/python3.9/site-packages (from -r requirements.txt (line 4)) (0.1.2)\n",
      "Requirement already satisfied: asks==3.0.0 in ./.venv/lib/python3.9/site-packages (from -r requirements.txt (line 5)) (3.0.0)\n",
      "Requirement already satisfied: asttokens==2.0.5 in ./.venv/lib/python3.9/site-packages (from -r requirements.txt (line 6)) (2.0.5)\n",
      "Requirement already satisfied: astunparse==1.6.3 in ./.venv/lib/python3.9/site-packages (from -r requirements.txt (line 7)) (1.6.3)\n",
      "Requirement already satisfied: async-generator==1.10 in ./.venv/lib/python3.9/site-packages (from -r requirements.txt (line 8)) (1.10)\n",
      "Requirement already satisfied: attrs==21.4.0 in ./.venv/lib/python3.9/site-packages (from -r requirements.txt (line 9)) (21.4.0)\n",
      "Requirement already satisfied: backcall==0.2.0 in ./.venv/lib/python3.9/site-packages (from -r requirements.txt (line 10)) (0.2.0)\n",
      "Requirement already satisfied: beautifulsoup4==4.10.0 in ./.venv/lib/python3.9/site-packages (from -r requirements.txt (line 11)) (4.10.0)\n",
      "Requirement already satisfied: black==22.1.0 in ./.venv/lib/python3.9/site-packages (from -r requirements.txt (line 12)) (22.1.0)\n",
      "Requirement already satisfied: cachetools==5.0.0 in ./.venv/lib/python3.9/site-packages (from -r requirements.txt (line 13)) (5.0.0)\n",
      "Requirement already satisfied: certifi==2021.10.8 in ./.venv/lib/python3.9/site-packages (from -r requirements.txt (line 14)) (2021.10.8)\n",
      "Requirement already satisfied: cffi==1.15.0 in ./.venv/lib/python3.9/site-packages (from -r requirements.txt (line 15)) (1.15.0)\n",
      "Requirement already satisfied: charset-normalizer==2.0.12 in ./.venv/lib/python3.9/site-packages (from -r requirements.txt (line 16)) (2.0.12)\n",
      "Requirement already satisfied: click==8.0.4 in ./.venv/lib/python3.9/site-packages (from -r requirements.txt (line 17)) (8.0.4)\n",
      "Requirement already satisfied: cryptography==36.0.2 in ./.venv/lib/python3.9/site-packages (from -r requirements.txt (line 18)) (36.0.2)\n",
      "Requirement already satisfied: cycler==0.11.0 in ./.venv/lib/python3.9/site-packages (from -r requirements.txt (line 19)) (0.11.0)\n",
      "Requirement already satisfied: Cython==0.29.28 in ./.venv/lib/python3.9/site-packages (from -r requirements.txt (line 20)) (0.29.28)\n",
      "Requirement already satisfied: debugpy==1.5.1 in ./.venv/lib/python3.9/site-packages (from -r requirements.txt (line 21)) (1.5.1)\n",
      "Requirement already satisfied: decorator==5.1.1 in ./.venv/lib/python3.9/site-packages (from -r requirements.txt (line 22)) (5.1.1)\n",
      "Requirement already satisfied: entrypoints==0.4 in ./.venv/lib/python3.9/site-packages (from -r requirements.txt (line 23)) (0.4)\n",
      "Requirement already satisfied: executing==0.8.2 in ./.venv/lib/python3.9/site-packages (from -r requirements.txt (line 24)) (0.8.2)\n",
      "Requirement already satisfied: fastjsonschema==2.15.3 in ./.venv/lib/python3.9/site-packages (from -r requirements.txt (line 25)) (2.15.3)\n",
      "Requirement already satisfied: flatbuffers==2.0 in ./.venv/lib/python3.9/site-packages (from -r requirements.txt (line 26)) (2.0)\n",
      "Requirement already satisfied: fonttools==4.29.1 in ./.venv/lib/python3.9/site-packages (from -r requirements.txt (line 27)) (4.29.1)\n",
      "Requirement already satisfied: gast==0.5.3 in ./.venv/lib/python3.9/site-packages (from -r requirements.txt (line 28)) (0.5.3)\n",
      "Requirement already satisfied: google-auth==2.6.0 in ./.venv/lib/python3.9/site-packages (from -r requirements.txt (line 29)) (2.6.0)\n",
      "Requirement already satisfied: google-auth-oauthlib==0.4.6 in ./.venv/lib/python3.9/site-packages (from -r requirements.txt (line 30)) (0.4.6)\n",
      "Requirement already satisfied: google-pasta==0.2.0 in ./.venv/lib/python3.9/site-packages (from -r requirements.txt (line 31)) (0.2.0)\n",
      "Requirement already satisfied: grpcio==1.44.0 in ./.venv/lib/python3.9/site-packages (from -r requirements.txt (line 32)) (1.44.0)\n",
      "Requirement already satisfied: h11==0.13.0 in ./.venv/lib/python3.9/site-packages (from -r requirements.txt (line 33)) (0.13.0)\n",
      "Requirement already satisfied: h5py==3.6.0 in ./.venv/lib/python3.9/site-packages (from -r requirements.txt (line 34)) (3.6.0)\n",
      "Requirement already satisfied: html5lib==1.1 in ./.venv/lib/python3.9/site-packages (from -r requirements.txt (line 35)) (1.1)\n",
      "Requirement already satisfied: idna==3.3 in ./.venv/lib/python3.9/site-packages (from -r requirements.txt (line 36)) (3.3)\n",
      "Requirement already satisfied: importlib-metadata==4.11.2 in ./.venv/lib/python3.9/site-packages (from -r requirements.txt (line 37)) (4.11.2)\n",
      "Requirement already satisfied: ipykernel==6.9.1 in ./.venv/lib/python3.9/site-packages (from -r requirements.txt (line 38)) (6.9.1)\n",
      "Requirement already satisfied: ipython==8.0.1 in ./.venv/lib/python3.9/site-packages (from -r requirements.txt (line 39)) (8.0.1)\n",
      "Requirement already satisfied: jedi==0.18.1 in ./.venv/lib/python3.9/site-packages (from -r requirements.txt (line 40)) (0.18.1)\n",
      "Requirement already satisfied: joblib==1.1.0 in ./.venv/lib/python3.9/site-packages (from -r requirements.txt (line 41)) (1.1.0)\n",
      "Requirement already satisfied: jsonschema==4.4.0 in ./.venv/lib/python3.9/site-packages (from -r requirements.txt (line 42)) (4.4.0)\n",
      "Requirement already satisfied: jupyter-client==7.1.2 in ./.venv/lib/python3.9/site-packages (from -r requirements.txt (line 43)) (7.1.2)\n",
      "Requirement already satisfied: jupyter-core==4.9.2 in ./.venv/lib/python3.9/site-packages (from -r requirements.txt (line 44)) (4.9.2)\n",
      "Requirement already satisfied: keras==2.8.0 in ./.venv/lib/python3.9/site-packages (from -r requirements.txt (line 45)) (2.8.0)\n",
      "Requirement already satisfied: Keras-Preprocessing==1.1.2 in ./.venv/lib/python3.9/site-packages (from -r requirements.txt (line 46)) (1.1.2)\n",
      "Requirement already satisfied: kiwisolver==1.3.2 in ./.venv/lib/python3.9/site-packages (from -r requirements.txt (line 47)) (1.3.2)\n",
      "Requirement already satisfied: libclang==13.0.0 in ./.venv/lib/python3.9/site-packages (from -r requirements.txt (line 48)) (13.0.0)\n",
      "Requirement already satisfied: llvmlite==0.38.0 in ./.venv/lib/python3.9/site-packages (from -r requirements.txt (line 49)) (0.38.0)\n",
      "Requirement already satisfied: Markdown==3.3.6 in ./.venv/lib/python3.9/site-packages (from -r requirements.txt (line 50)) (3.3.6)\n",
      "Requirement already satisfied: matplotlib==3.5.1 in ./.venv/lib/python3.9/site-packages (from -r requirements.txt (line 51)) (3.5.1)\n",
      "Requirement already satisfied: matplotlib-inline==0.1.3 in ./.venv/lib/python3.9/site-packages (from -r requirements.txt (line 52)) (0.1.3)\n",
      "Requirement already satisfied: mypy-extensions==0.4.3 in ./.venv/lib/python3.9/site-packages (from -r requirements.txt (line 53)) (0.4.3)\n",
      "Requirement already satisfied: nbformat==5.3.0 in ./.venv/lib/python3.9/site-packages (from -r requirements.txt (line 54)) (5.3.0)\n",
      "Requirement already satisfied: nest-asyncio==1.5.4 in ./.venv/lib/python3.9/site-packages (from -r requirements.txt (line 55)) (1.5.4)\n",
      "Requirement already satisfied: netdata-pandas==0.0.41 in ./.venv/lib/python3.9/site-packages (from -r requirements.txt (line 56)) (0.0.41)\n",
      "Requirement already satisfied: numba==0.55.1 in ./.venv/lib/python3.9/site-packages (from -r requirements.txt (line 57)) (0.55.1)\n",
      "Requirement already satisfied: numpy==1.21.5 in ./.venv/lib/python3.9/site-packages (from -r requirements.txt (line 58)) (1.21.5)\n",
      "Requirement already satisfied: oauthlib==3.2.0 in ./.venv/lib/python3.9/site-packages (from -r requirements.txt (line 59)) (3.2.0)\n",
      "Requirement already satisfied: opt-einsum==3.3.0 in ./.venv/lib/python3.9/site-packages (from -r requirements.txt (line 60)) (3.3.0)\n",
      "Requirement already satisfied: outcome==1.1.0 in ./.venv/lib/python3.9/site-packages (from -r requirements.txt (line 61)) (1.1.0)\n",
      "Requirement already satisfied: packaging==21.3 in ./.venv/lib/python3.9/site-packages (from -r requirements.txt (line 62)) (21.3)\n",
      "Requirement already satisfied: pandas==1.4.1 in ./.venv/lib/python3.9/site-packages (from -r requirements.txt (line 63)) (1.4.1)\n",
      "Requirement already satisfied: parso==0.8.3 in ./.venv/lib/python3.9/site-packages (from -r requirements.txt (line 64)) (0.8.3)\n",
      "Requirement already satisfied: pathspec==0.9.0 in ./.venv/lib/python3.9/site-packages (from -r requirements.txt (line 65)) (0.9.0)\n",
      "Requirement already satisfied: patsy==0.5.2 in ./.venv/lib/python3.9/site-packages (from -r requirements.txt (line 66)) (0.5.2)\n",
      "Requirement already satisfied: pexpect==4.8.0 in ./.venv/lib/python3.9/site-packages (from -r requirements.txt (line 67)) (4.8.0)\n",
      "Requirement already satisfied: pickleshare==0.7.5 in ./.venv/lib/python3.9/site-packages (from -r requirements.txt (line 68)) (0.7.5)\n",
      "Requirement already satisfied: Pillow==9.0.1 in ./.venv/lib/python3.9/site-packages (from -r requirements.txt (line 69)) (9.0.1)\n",
      "Requirement already satisfied: platformdirs==2.5.0 in ./.venv/lib/python3.9/site-packages (from -r requirements.txt (line 70)) (2.5.0)\n",
      "Requirement already satisfied: plotly==5.7.0 in ./.venv/lib/python3.9/site-packages (from -r requirements.txt (line 71)) (5.7.0)\n",
      "Requirement already satisfied: prompt-toolkit==3.0.28 in ./.venv/lib/python3.9/site-packages (from -r requirements.txt (line 72)) (3.0.28)\n",
      "Requirement already satisfied: protobuf==3.19.4 in ./.venv/lib/python3.9/site-packages (from -r requirements.txt (line 73)) (3.19.4)\n",
      "Requirement already satisfied: ptyprocess==0.7.0 in ./.venv/lib/python3.9/site-packages (from -r requirements.txt (line 74)) (0.7.0)\n",
      "Requirement already satisfied: pure-eval==0.2.2 in ./.venv/lib/python3.9/site-packages (from -r requirements.txt (line 75)) (0.2.2)\n",
      "Requirement already satisfied: pyasn1==0.4.8 in ./.venv/lib/python3.9/site-packages (from -r requirements.txt (line 76)) (0.4.8)\n",
      "Requirement already satisfied: pyasn1-modules==0.2.8 in ./.venv/lib/python3.9/site-packages (from -r requirements.txt (line 77)) (0.2.8)\n",
      "Requirement already satisfied: pycparser==2.21 in ./.venv/lib/python3.9/site-packages (from -r requirements.txt (line 78)) (2.21)\n",
      "Requirement already satisfied: Pygments==2.11.2 in ./.venv/lib/python3.9/site-packages (from -r requirements.txt (line 79)) (2.11.2)\n",
      "Requirement already satisfied: pyOpenSSL==22.0.0 in ./.venv/lib/python3.9/site-packages (from -r requirements.txt (line 80)) (22.0.0)\n",
      "Requirement already satisfied: pyparsing==3.0.7 in ./.venv/lib/python3.9/site-packages (from -r requirements.txt (line 81)) (3.0.7)\n",
      "Requirement already satisfied: pyrsistent==0.18.1 in ./.venv/lib/python3.9/site-packages (from -r requirements.txt (line 82)) (0.18.1)\n",
      "Requirement already satisfied: PySocks==1.7.1 in ./.venv/lib/python3.9/site-packages (from -r requirements.txt (line 83)) (1.7.1)\n",
      "Requirement already satisfied: python-dateutil==2.8.2 in ./.venv/lib/python3.9/site-packages (from -r requirements.txt (line 84)) (2.8.2)\n",
      "Requirement already satisfied: pytz==2021.3 in ./.venv/lib/python3.9/site-packages (from -r requirements.txt (line 85)) (2021.3)\n",
      "Requirement already satisfied: pyzmq==22.3.0 in ./.venv/lib/python3.9/site-packages (from -r requirements.txt (line 86)) (22.3.0)\n",
      "Requirement already satisfied: requests==2.27.1 in ./.venv/lib/python3.9/site-packages (from -r requirements.txt (line 87)) (2.27.1)\n",
      "Requirement already satisfied: requests-oauthlib==1.3.1 in ./.venv/lib/python3.9/site-packages (from -r requirements.txt (line 88)) (1.3.1)\n",
      "Requirement already satisfied: rsa==4.8 in ./.venv/lib/python3.9/site-packages (from -r requirements.txt (line 89)) (4.8)\n",
      "Requirement already satisfied: scikit-learn==1.0.2 in ./.venv/lib/python3.9/site-packages (from -r requirements.txt (line 90)) (1.0.2)\n",
      "Requirement already satisfied: scipy==1.8.0 in ./.venv/lib/python3.9/site-packages (from -r requirements.txt (line 91)) (1.8.0)\n",
      "Requirement already satisfied: seaborn==0.11.2 in ./.venv/lib/python3.9/site-packages (from -r requirements.txt (line 92)) (0.11.2)\n",
      "Requirement already satisfied: selenium==4.1.3 in ./.venv/lib/python3.9/site-packages (from -r requirements.txt (line 93)) (4.1.3)\n",
      "Requirement already satisfied: six==1.16.0 in ./.venv/lib/python3.9/site-packages (from -r requirements.txt (line 94)) (1.16.0)\n",
      "Requirement already satisfied: sklearn==0.0 in ./.venv/lib/python3.9/site-packages (from -r requirements.txt (line 95)) (0.0)\n",
      "Requirement already satisfied: sniffio==1.2.0 in ./.venv/lib/python3.9/site-packages (from -r requirements.txt (line 96)) (1.2.0)\n",
      "Requirement already satisfied: sortedcontainers==2.4.0 in ./.venv/lib/python3.9/site-packages (from -r requirements.txt (line 97)) (2.4.0)\n",
      "Requirement already satisfied: soupsieve==2.3.1 in ./.venv/lib/python3.9/site-packages (from -r requirements.txt (line 98)) (2.3.1)\n",
      "Requirement already satisfied: stack-data==0.2.0 in ./.venv/lib/python3.9/site-packages (from -r requirements.txt (line 99)) (0.2.0)\n",
      "Requirement already satisfied: statsmodels==0.13.2 in ./.venv/lib/python3.9/site-packages (from -r requirements.txt (line 100)) (0.13.2)\n",
      "Requirement already satisfied: tenacity==8.0.1 in ./.venv/lib/python3.9/site-packages (from -r requirements.txt (line 101)) (8.0.1)\n",
      "Requirement already satisfied: tensorboard==2.8.0 in ./.venv/lib/python3.9/site-packages (from -r requirements.txt (line 102)) (2.8.0)\n",
      "Requirement already satisfied: tensorboard-data-server==0.6.1 in ./.venv/lib/python3.9/site-packages (from -r requirements.txt (line 103)) (0.6.1)\n",
      "Requirement already satisfied: tensorboard-plugin-wit==1.8.1 in ./.venv/lib/python3.9/site-packages (from -r requirements.txt (line 104)) (1.8.1)\n",
      "Requirement already satisfied: tensorflow==2.8.0 in ./.venv/lib/python3.9/site-packages (from -r requirements.txt (line 105)) (2.8.0)\n",
      "Requirement already satisfied: tensorflow-io-gcs-filesystem==0.24.0 in ./.venv/lib/python3.9/site-packages (from -r requirements.txt (line 106)) (0.24.0)\n",
      "Requirement already satisfied: termcolor==1.1.0 in ./.venv/lib/python3.9/site-packages (from -r requirements.txt (line 107)) (1.1.0)\n",
      "Requirement already satisfied: tf-estimator-nightly==2.8.0.dev2021122109 in ./.venv/lib/python3.9/site-packages (from -r requirements.txt (line 108)) (2.8.0.dev2021122109)\n",
      "Requirement already satisfied: threadpoolctl==3.1.0 in ./.venv/lib/python3.9/site-packages (from -r requirements.txt (line 109)) (3.1.0)\n",
      "Requirement already satisfied: tomli==2.0.1 in ./.venv/lib/python3.9/site-packages (from -r requirements.txt (line 110)) (2.0.1)\n",
      "Requirement already satisfied: tornado==6.1 in ./.venv/lib/python3.9/site-packages (from -r requirements.txt (line 111)) (6.1)\n",
      "Requirement already satisfied: traitlets==5.1.1 in ./.venv/lib/python3.9/site-packages (from -r requirements.txt (line 112)) (5.1.1)\n",
      "Requirement already satisfied: trio==0.20.0 in ./.venv/lib/python3.9/site-packages (from -r requirements.txt (line 113)) (0.20.0)\n",
      "Requirement already satisfied: trio-websocket==0.9.2 in ./.venv/lib/python3.9/site-packages (from -r requirements.txt (line 114)) (0.9.2)\n",
      "Requirement already satisfied: tslearn==0.5.2 in ./.venv/lib/python3.9/site-packages (from -r requirements.txt (line 115)) (0.5.2)\n",
      "Requirement already satisfied: typing-extensions==4.1.1 in ./.venv/lib/python3.9/site-packages (from -r requirements.txt (line 116)) (4.1.1)\n",
      "Requirement already satisfied: urllib3==1.26.8 in ./.venv/lib/python3.9/site-packages (from -r requirements.txt (line 117)) (1.26.8)\n",
      "Requirement already satisfied: wcwidth==0.2.5 in ./.venv/lib/python3.9/site-packages (from -r requirements.txt (line 118)) (0.2.5)\n",
      "Requirement already satisfied: webdriver-manager==3.5.4 in ./.venv/lib/python3.9/site-packages (from -r requirements.txt (line 119)) (3.5.4)\n",
      "Requirement already satisfied: webencodings==0.5.1 in ./.venv/lib/python3.9/site-packages (from -r requirements.txt (line 120)) (0.5.1)\n",
      "Requirement already satisfied: Werkzeug==2.0.3 in ./.venv/lib/python3.9/site-packages (from -r requirements.txt (line 121)) (2.0.3)\n",
      "Requirement already satisfied: wrapt==1.13.3 in ./.venv/lib/python3.9/site-packages (from -r requirements.txt (line 122)) (1.13.3)\n",
      "Requirement already satisfied: wsproto==1.1.0 in ./.venv/lib/python3.9/site-packages (from -r requirements.txt (line 123)) (1.1.0)\n",
      "Requirement already satisfied: zipp==3.7.0 in ./.venv/lib/python3.9/site-packages (from -r requirements.txt (line 124)) (3.7.0)\n",
      "Requirement already satisfied: wheel<1.0,>=0.23.0 in ./.venv/lib/python3.9/site-packages (from astunparse==1.6.3->-r requirements.txt (line 7)) (0.36.2)\n",
      "Requirement already satisfied: setuptools>=18.5 in ./.venv/lib/python3.9/site-packages (from ipython==8.0.1->-r requirements.txt (line 39)) (54.2.0)\n",
      "\u001b[33mWARNING: You are using pip version 21.0.1; however, version 22.0.4 is available.\n",
      "You should consider upgrading via the '/Users/enrico/Documents/Faculdade/TCC Local/Projeto/.venv/bin/python -m pip install --upgrade pip' command.\u001b[0m\n",
      "Note: you may need to restart the kernel to use updated packages.\n"
     ]
    }
   ],
   "source": [
    "%pip install statsmodels --upgrade"
   ]
  },
  {
   "cell_type": "code",
   "execution_count": 8,
   "metadata": {},
   "outputs": [],
   "source": [
    "from methods.ar import ar, arima\n",
    "from methods.naive import average_forecast, all_true, all_false\n",
    "from methods.lstm import lstm, stacked_lstm\n",
    "from methods.mlp import mlp\n",
    "from methods.mlp import mlp_keras\n",
    "from methods.cnn import cnn\n",
    "from methods.classifiers import knn, gaussian, random_forest\n",
    "from methods.runner import Runner\n",
    "import functools\n"
   ]
  },
  {
   "cell_type": "code",
   "execution_count": 9,
   "metadata": {},
   "outputs": [],
   "source": [
    "# ar -> n_steps = 2, 4, 8\n",
    "# arima -> n_steps = 2, 4, 8; order = 2, 4, 8; differencing = 1, 2, 3\n",
    "# KNN -> n_steps = 2, 4, 8; n_neighbours = 2, 4, 8; distances = 1, 2, 3, 4, 5; \n",
    "# MLP -> n_steps = 2, 4, 8; epochs = 50, 100, 200; layers = 1, 2, 3; cells = 50, 100, 200\n",
    "# LSTM -> n_steps = 2, 4, 8; epochs = 50, 100, 200; layers = 1, 2, 3; cells = 50, 100, 200\n",
    "\n",
    "models = {}\n",
    "epochs = [50, 100, 200]\n",
    "layers = [1, 2, 3]\n",
    "cells = [50, 100, 200]\n",
    "orders = [2, 4, 8]\n",
    "differencing = [1, 2, 3]\n",
    "n_neighbours = [2, 4, 8]\n",
    "distances = [1, 2, 3, 4, 5]\n",
    "\n",
    "for order in orders:\n",
    "\tfor diff in differencing:\n",
    "\t\tmodels[f\"ARIMA_{order}_{diff}\"] = functools.partial(arima, order=order, differencing=diff)\n",
    "\n",
    "for n in n_neighbours:\n",
    "\tfor d in distances:\n",
    "\t\tmodels[f\"KNN_{n}_{d}\"] = functools.partial(knn, n_neighbors=n, distance=d)\n",
    "\n",
    "for epoch in epochs:\n",
    "\tfor layer in layers:\n",
    "\t\tfor cell in cells:\n",
    "\t\t\tmodels[f\"MLP_{epoch}_{layer}_{cell}\"] = functools.partial(mlp_keras, epochs=epoch, layers=layer, cells=cell)\n",
    "\n",
    "for epoch in epochs:\n",
    "\tfor layer in layers:\n",
    "\t\tfor cell in cells:\n",
    "\t\t\tmodels[f\"LSTM_{epoch}_{layer}_{cell}\"] = functools.partial(lstm, epochs=epoch, layers=layer, cells=cell)"
   ]
  },
  {
   "cell_type": "code",
   "execution_count": 5,
   "metadata": {},
   "outputs": [],
   "source": [
    "# models = {\n",
    "# \t\"Naive\": average_forecast,\n",
    "# \t\"All True\": all_true,\n",
    "# \t\"All False\": all_false,\n",
    "# \t# \"AR\": ar,\n",
    "# \t\"ARIMA\": arima,\n",
    "# \t# \"MLP\": mlp,\n",
    "# \t# \"KNN\": knn,\n",
    "# \t# \"Gaussian\": gaussian,\n",
    "# \t# \"RandomForest\": random_forest,\n",
    "# \t# \"MLP Keras\": mlp_keras,\n",
    "# \t# \"CNN\": cnn,\n",
    "# \t# \"LSTM\": lstm,\n",
    "# \t# \"Stacked LSTM\": stacked_lstm\n",
    "# }"
   ]
  },
  {
   "cell_type": "code",
   "execution_count": 12,
   "metadata": {},
   "outputs": [
    {
     "name": "stdout",
     "output_type": "stream",
     "text": [
      "Running only for datasets with more then 240.0 rows\n"
     ]
    }
   ],
   "source": [
    "runner = Runner(models)\n",
    "# runner.run(\"accuracy\")\n",
    "runner.continue_run(\"202204211108\", \"accuracy\")"
   ]
  },
  {
   "cell_type": "code",
   "execution_count": null,
   "metadata": {},
   "outputs": [],
   "source": []
  }
 ],
 "metadata": {
  "interpreter": {
   "hash": "592a46525cd41fc2034ee9308cd602c1c2afda19be282adc91ea849179671fc9"
  },
  "kernelspec": {
   "display_name": "Python 3.9.5 ('.venv': venv)",
   "language": "python",
   "name": "python3"
  },
  "language_info": {
   "codemirror_mode": {
    "name": "ipython",
    "version": 3
   },
   "file_extension": ".py",
   "mimetype": "text/x-python",
   "name": "python",
   "nbconvert_exporter": "python",
   "pygments_lexer": "ipython3",
   "version": "3.9.5"
  },
  "orig_nbformat": 4
 },
 "nbformat": 4,
 "nbformat_minor": 2
}
