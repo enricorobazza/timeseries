{
 "cells": [
  {
   "cell_type": "code",
   "execution_count": 2,
   "metadata": {},
   "outputs": [
    {
     "name": "stdout",
     "output_type": "stream",
     "text": [
      "The autoreload extension is already loaded. To reload it, use:\n",
      "  %reload_ext autoreload\n"
     ]
    }
   ],
   "source": [
    "%load_ext autoreload\n",
    "%autoreload 2"
   ]
  },
  {
   "cell_type": "code",
   "execution_count": 2,
   "metadata": {},
   "outputs": [
    {
     "name": "stdout",
     "output_type": "stream",
     "text": [
      "Requirement already satisfied: statsmodels in ./.venv/lib/python3.9/site-packages (0.13.2)\n",
      "Requirement already satisfied: pandas>=0.25 in ./.venv/lib/python3.9/site-packages (from statsmodels) (1.4.1)\n",
      "Requirement already satisfied: patsy>=0.5.2 in ./.venv/lib/python3.9/site-packages (from statsmodels) (0.5.2)\n",
      "Requirement already satisfied: numpy>=1.17 in ./.venv/lib/python3.9/site-packages (from statsmodels) (1.21.5)\n",
      "Requirement already satisfied: scipy>=1.3 in ./.venv/lib/python3.9/site-packages (from statsmodels) (1.8.0)\n",
      "Requirement already satisfied: packaging>=21.3 in ./.venv/lib/python3.9/site-packages (from statsmodels) (21.3)\n",
      "Requirement already satisfied: pyparsing!=3.0.5,>=2.0.2 in ./.venv/lib/python3.9/site-packages (from packaging>=21.3->statsmodels) (3.0.7)\n",
      "Requirement already satisfied: pytz>=2020.1 in ./.venv/lib/python3.9/site-packages (from pandas>=0.25->statsmodels) (2021.3)\n",
      "Requirement already satisfied: python-dateutil>=2.8.1 in ./.venv/lib/python3.9/site-packages (from pandas>=0.25->statsmodels) (2.8.2)\n",
      "Requirement already satisfied: six in ./.venv/lib/python3.9/site-packages (from patsy>=0.5.2->statsmodels) (1.16.0)\n",
      "\u001b[33mWARNING: You are using pip version 21.0.1; however, version 22.0.4 is available.\n",
      "You should consider upgrading via the '/Users/enrico/Documents/Faculdade/TCC Local/Projeto/.venv/bin/python -m pip install --upgrade pip' command.\u001b[0m\n",
      "Note: you may need to restart the kernel to use updated packages.\n"
     ]
    }
   ],
   "source": [
    "%pip install statsmodels --upgrade"
   ]
  },
  {
   "cell_type": "code",
   "execution_count": 3,
   "metadata": {},
   "outputs": [],
   "source": [
    "from methods.ar import ar, arima\n",
    "from methods.naive import average_forecast, all_true, all_false\n",
    "from methods.lstm import lstm\n",
    "from methods.mlp import mlp\n",
    "from methods.mlp import mlp_keras\n",
    "from methods.cnn import cnn\n",
    "from methods.classifiers import knn, gaussian, random_forest\n",
    "from methods.runner import Runner\n",
    "import functools\n"
   ]
  },
  {
   "cell_type": "code",
   "execution_count": null,
   "metadata": {},
   "outputs": [],
   "source": [
    "# ar -> n_steps = 2, 4, 8\n",
    "# arima -> n_steps = 2, 4, 8; order = 2, 4, 8; differencing = 1, 2, 3\n",
    "# KNN -> n_steps = 2, 4, 8; n_neighbours = 2, 4, 8; distances = 1, 2, 3, 4, 5; \n",
    "# MLP -> n_steps = 2, 4, 8; epochs = 50, 100, 200; layers = 1, 2, 3; cells = 50, 100, 200\n",
    "# LSTM -> n_steps = 2, 4, 8; epochs = 50, 100, 200; layers = 1, 2, 3; cells = 50, 100, 200\n",
    "\n",
    "models = {}\n",
    "epochs = [50, 100, 200]\n",
    "layers = [1, 2, 3]\n",
    "cells = [50, 100, 200]\n",
    "orders = [2, 4, 8]\n",
    "differencing = [1, 2, 3]\n",
    "n_neighbours = [2, 4, 8]\n",
    "distances = [1, 2, 3, 4, 5]\n",
    "\n",
    "for order in orders:\n",
    "\tfor diff in differencing:\n",
    "\t\tmodels[f\"ARIMA_{order}_{diff}\"] = functools.partial(arima, order=order, differencing=diff)\n",
    "\n",
    "for n in n_neighbours:\n",
    "\tfor d in distances:\n",
    "\t\tmodels[f\"KNN_{n}_{d}\"] = functools.partial(knn, n_neighbors=n, distance=d)\n",
    "\n",
    "for epoch in epochs:\n",
    "\tfor layer in layers:\n",
    "\t\tfor cell in cells:\n",
    "\t\t\tmodels[f\"MLP_{epoch}_{layer}_{cell}\"] = functools.partial(mlp_keras, epochs=epoch, layers=layer, cells=cell)\n",
    "\n",
    "for epoch in epochs:\n",
    "\tfor layer in layers:\n",
    "\t\tfor cell in cells:\n",
    "\t\t\tmodels[f\"LSTM_{epoch}_{layer}_{cell}\"] = functools.partial(lstm, epochs=epoch, layers=layer, cells=cell)"
   ]
  },
  {
   "cell_type": "code",
   "execution_count": 5,
   "metadata": {},
   "outputs": [],
   "source": [
    "# models = {\n",
    "# \t\"Naive\": average_forecast,\n",
    "# \t\"All True\": all_true,\n",
    "# \t\"All False\": all_false,\n",
    "# \t# \"AR\": ar,\n",
    "# \t\"ARIMA\": arima,\n",
    "# \t# \"MLP\": mlp,\n",
    "# \t# \"KNN\": knn,\n",
    "# \t# \"Gaussian\": gaussian,\n",
    "# \t# \"RandomForest\": random_forest,\n",
    "# \t# \"MLP Keras\": mlp_keras,\n",
    "# \t# \"CNN\": cnn,\n",
    "# \t# \"LSTM\": lstm,\n",
    "# \t# \"Stacked LSTM\": stacked_lstm\n",
    "# }"
   ]
  },
  {
   "cell_type": "code",
   "execution_count": 10,
   "metadata": {},
   "outputs": [],
   "source": [
    "models = {}\n",
    "# models[\"MLP_200_3_200\"] = functools.partial(mlp_keras, epochs=200, layers=3, cells=200)\n",
    "models[\"LSTM_100_1_100\"] = functools.partial(lstm, cells=50, layers=1, epochs=100, verbose=1, transfer=True, n_classes=2)\n",
    "# models[\"All True\"] = all_true\n",
    "# models[\"All False\"] = all_false"
   ]
  },
  {
   "cell_type": "code",
   "execution_count": 9,
   "metadata": {},
   "outputs": [],
   "source": [
    "def callback(self):\n",
    "\tprint(self)\n",
    "\n",
    "runner = Runner(models, callback = callback, delta_separator = 0.056)\n",
    "runner.run_all(\"accuracy\")\n",
    "# runner.run(\"accuracy\")\n",
    "\n",
    "\n",
    "# runner.run_transfer(\"accuracy\")\n",
    "# runner.continue_run_transfer(\"202205022349\", \"accuracy\")\n",
    "# runner.continue_run_transfer(\"202205011401\", \"accuracy\")"
   ]
  },
  {
   "cell_type": "code",
   "execution_count": null,
   "metadata": {},
   "outputs": [],
   "source": []
  }
 ],
 "metadata": {
  "interpreter": {
   "hash": "592a46525cd41fc2034ee9308cd602c1c2afda19be282adc91ea849179671fc9"
  },
  "kernelspec": {
   "display_name": "Python 3.9.5 ('.venv': venv)",
   "language": "python",
   "name": "python3"
  },
  "language_info": {
   "codemirror_mode": {
    "name": "ipython",
    "version": 3
   },
   "file_extension": ".py",
   "mimetype": "text/x-python",
   "name": "python",
   "nbconvert_exporter": "python",
   "pygments_lexer": "ipython3",
   "version": "3.9.5"
  },
  "orig_nbformat": 4
 },
 "nbformat": 4,
 "nbformat_minor": 2
}
