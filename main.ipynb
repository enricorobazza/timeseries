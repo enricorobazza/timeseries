{
 "cells": [
  {
   "cell_type": "code",
   "execution_count": 2,
   "metadata": {},
   "outputs": [
    {
     "name": "stdout",
     "output_type": "stream",
     "text": [
      "The autoreload extension is already loaded. To reload it, use:\n",
      "  %reload_ext autoreload\n"
     ]
    }
   ],
   "source": [
    "%load_ext autoreload\n",
    "%autoreload 2"
   ]
  },
  {
   "cell_type": "code",
   "execution_count": 2,
   "metadata": {},
   "outputs": [
    {
     "name": "stdout",
     "output_type": "stream",
     "text": [
      "Requirement already satisfied: statsmodels in ./.venv/lib/python3.9/site-packages (0.13.2)\n",
      "Requirement already satisfied: pandas>=0.25 in ./.venv/lib/python3.9/site-packages (from statsmodels) (1.4.1)\n",
      "Requirement already satisfied: patsy>=0.5.2 in ./.venv/lib/python3.9/site-packages (from statsmodels) (0.5.2)\n",
      "Requirement already satisfied: numpy>=1.17 in ./.venv/lib/python3.9/site-packages (from statsmodels) (1.21.5)\n",
      "Requirement already satisfied: scipy>=1.3 in ./.venv/lib/python3.9/site-packages (from statsmodels) (1.8.0)\n",
      "Requirement already satisfied: packaging>=21.3 in ./.venv/lib/python3.9/site-packages (from statsmodels) (21.3)\n",
      "Requirement already satisfied: pyparsing!=3.0.5,>=2.0.2 in ./.venv/lib/python3.9/site-packages (from packaging>=21.3->statsmodels) (3.0.7)\n",
      "Requirement already satisfied: pytz>=2020.1 in ./.venv/lib/python3.9/site-packages (from pandas>=0.25->statsmodels) (2021.3)\n",
      "Requirement already satisfied: python-dateutil>=2.8.1 in ./.venv/lib/python3.9/site-packages (from pandas>=0.25->statsmodels) (2.8.2)\n",
      "Requirement already satisfied: six in ./.venv/lib/python3.9/site-packages (from patsy>=0.5.2->statsmodels) (1.16.0)\n",
      "\u001b[33mWARNING: You are using pip version 21.0.1; however, version 22.0.4 is available.\n",
      "You should consider upgrading via the '/Users/enrico/Documents/Faculdade/TCC Local/Projeto/.venv/bin/python -m pip install --upgrade pip' command.\u001b[0m\n",
      "Note: you may need to restart the kernel to use updated packages.\n"
     ]
    }
   ],
   "source": [
    "%pip install statsmodels --upgrade"
   ]
  },
  {
   "cell_type": "code",
   "execution_count": 3,
   "metadata": {},
   "outputs": [],
   "source": [
    "from methods.ar import ar, arima\n",
    "from methods.naive import average_forecast, all_true, all_false\n",
    "from methods.lstm import lstm\n",
    "from methods.mlp import mlp\n",
    "from methods.mlp import mlp_keras\n",
    "from methods.cnn import cnn\n",
    "from methods.classifiers import knn, gaussian, random_forest\n",
    "from methods.runner import Runner\n",
    "import functools\n"
   ]
  },
  {
   "cell_type": "code",
   "execution_count": null,
   "metadata": {},
   "outputs": [],
   "source": [
    "# ar -> n_steps = 2, 4, 8\n",
    "# arima -> n_steps = 2, 4, 8; order = 2, 4, 8; differencing = 1, 2, 3\n",
    "# KNN -> n_steps = 2, 4, 8; n_neighbours = 2, 4, 8; distances = 1, 2, 3, 4, 5; \n",
    "# MLP -> n_steps = 2, 4, 8; epochs = 50, 100, 200; layers = 1, 2, 3; cells = 50, 100, 200\n",
    "# LSTM -> n_steps = 2, 4, 8; epochs = 50, 100, 200; layers = 1, 2, 3; cells = 50, 100, 200\n",
    "\n",
    "models = {}\n",
    "epochs = [50, 100, 200]\n",
    "layers = [1, 2, 3]\n",
    "cells = [50, 100, 200]\n",
    "orders = [2, 4, 8]\n",
    "differencing = [1, 2, 3]\n",
    "n_neighbours = [2, 4, 8]\n",
    "distances = [1, 2, 3, 4, 5]\n",
    "\n",
    "for order in orders:\n",
    "\tfor diff in differencing:\n",
    "\t\tmodels[f\"ARIMA_{order}_{diff}\"] = functools.partial(arima, order=order, differencing=diff)\n",
    "\n",
    "for n in n_neighbours:\n",
    "\tfor d in distances:\n",
    "\t\tmodels[f\"KNN_{n}_{d}\"] = functools.partial(knn, n_neighbors=n, distance=d)\n",
    "\n",
    "for epoch in epochs:\n",
    "\tfor layer in layers:\n",
    "\t\tfor cell in cells:\n",
    "\t\t\tmodels[f\"MLP_{epoch}_{layer}_{cell}\"] = functools.partial(mlp_keras, epochs=epoch, layers=layer, cells=cell)\n",
    "\n",
    "for epoch in epochs:\n",
    "\tfor layer in layers:\n",
    "\t\tfor cell in cells:\n",
    "\t\t\tmodels[f\"LSTM_{epoch}_{layer}_{cell}\"] = functools.partial(lstm, epochs=epoch, layers=layer, cells=cell)"
   ]
  },
  {
   "cell_type": "code",
   "execution_count": 18,
   "metadata": {},
   "outputs": [],
   "source": [
    "models = {\n",
    "\t\"Naive\": average_forecast,\n",
    "\t\"All True\": all_true,\n",
    "\t\"All False\": all_false,\n",
    "\t# \"AR\": ar,\n",
    "\t# \"ARIMA\": arima,\n",
    "\t\"MLP\": mlp,\n",
    "\t\"KNN\": knn,\n",
    "\t# \"Gaussian\": gaussian,\n",
    "\t# \"RandomForest\": random_forest,\n",
    "\t# \"MLP Keras\": mlp_keras,\n",
    "\t\"CNN\": cnn,\n",
    "\t\"LSTM\": lstm,\n",
    "\t# \"Stacked LSTM\": stacked_lstm\n",
    "}"
   ]
  },
  {
   "cell_type": "code",
   "execution_count": 20,
   "metadata": {},
   "outputs": [],
   "source": [
    "models = {}\n",
    "models[\"MLP_200_3_200\"] = functools.partial(mlp_keras, epochs=10, layers=3, cells=200)\n",
    "models[\"LSTM_100_1_100\"] = functools.partial(lstm, cells=50, layers=2, epochs=10, verbose=0)\n",
    "\n",
    "epoch = 10\n",
    "filter = 32\n",
    "kernel_size = 2\n",
    "n = 8\n",
    "d = 1\n",
    "\n",
    "models[f\"KNN_{n}_{d}\"] = functools.partial(knn, n_neighbors=n, distance=d)\n",
    "models[f\"CNN_{epoch}_{filter}_{kernel_size}\"] = functools.partial(cnn, epochs=epoch, kernel_size=kernel_size, filters=filter)\n",
    "# models[\"LSTM_100_1_100\"] = functools.partial(lstm, cells=50, layers=1, epochs=10, verbose=1)\n",
    "# models[\"All True\"] = all_true\n",
    "# models[\"All False\"] = all_false\n",
    "# models[\"AVG_FORECAST\"] = average_forecast"
   ]
  },
  {
   "cell_type": "code",
   "execution_count": 21,
   "metadata": {},
   "outputs": [
    {
     "name": "stdout",
     "output_type": "stream",
     "text": [
      "{'mse': 0, 'accuracy': 0.6666666666666666, 'roc': 0.8, 'fmeasure': 0.7083333333333334, 'periods': 6}\n",
      "{'mse': 0, 'accuracy': 0.5, 'roc': 0.7, 'fmeasure': 0.5428571428571429, 'periods': 6}\n",
      "{'mse': 0, 'accuracy': 0.5, 'roc': 0.3, 'fmeasure': 0.5555555555555555, 'periods': 6}\n",
      "{'mse': 0, 'accuracy': 1.0, 'roc': 1.0, 'fmeasure': 1.0, 'periods': 6}\n",
      "Errors: 0\n"
     ]
    }
   ],
   "source": [
    "def callback(self):\n",
    "\tprint(self)\n",
    "\n",
    "runner = Runner(models, callback = callback)\n",
    "# runner.run_all(\"accuracy\", delta_separator = 0.056)\n",
    "runner.run_all(\"accuracy\", min_validation_size = 4)\n",
    "# runner.run(\"accuracy\")\n",
    "\n",
    "\n",
    "# runner.run_transfer(\"accuracy\")\n",
    "# runner.continue_run_transfer(\"202205022349\", \"accuracy\")\n",
    "# runner.continue_run_transfer(\"202205011401\", \"accuracy\")"
   ]
  },
  {
   "cell_type": "code",
   "execution_count": 4,
   "metadata": {},
   "outputs": [
    {
     "data": {
      "text/html": [
       "<div>\n",
       "<style scoped>\n",
       "    .dataframe tbody tr th:only-of-type {\n",
       "        vertical-align: middle;\n",
       "    }\n",
       "\n",
       "    .dataframe tbody tr th {\n",
       "        vertical-align: top;\n",
       "    }\n",
       "\n",
       "    .dataframe thead th {\n",
       "        text-align: right;\n",
       "    }\n",
       "</style>\n",
       "<table border=\"1\" class=\"dataframe\">\n",
       "  <thead>\n",
       "    <tr style=\"text-align: right;\">\n",
       "      <th></th>\n",
       "      <th>y</th>\n",
       "      <th>y_pred</th>\n",
       "      <th>y_label</th>\n",
       "      <th>time</th>\n",
       "      <th>file</th>\n",
       "      <th>model</th>\n",
       "    </tr>\n",
       "  </thead>\n",
       "  <tbody>\n",
       "    <tr>\n",
       "      <th>0</th>\n",
       "      <td>0</td>\n",
       "      <td>0</td>\n",
       "      <td>202102</td>\n",
       "      <td>0.839018</td>\n",
       "      <td>All.csv</td>\n",
       "      <td>LSTM_100_1_100</td>\n",
       "    </tr>\n",
       "    <tr>\n",
       "      <th>1</th>\n",
       "      <td>0</td>\n",
       "      <td>0</td>\n",
       "      <td>202103</td>\n",
       "      <td>0.839018</td>\n",
       "      <td>All.csv</td>\n",
       "      <td>LSTM_100_1_100</td>\n",
       "    </tr>\n",
       "    <tr>\n",
       "      <th>2</th>\n",
       "      <td>1</td>\n",
       "      <td>0</td>\n",
       "      <td>202104</td>\n",
       "      <td>0.839018</td>\n",
       "      <td>All.csv</td>\n",
       "      <td>LSTM_100_1_100</td>\n",
       "    </tr>\n",
       "    <tr>\n",
       "      <th>3</th>\n",
       "      <td>0</td>\n",
       "      <td>0</td>\n",
       "      <td>202008</td>\n",
       "      <td>0.839018</td>\n",
       "      <td>All.csv</td>\n",
       "      <td>LSTM_100_1_100</td>\n",
       "    </tr>\n",
       "    <tr>\n",
       "      <th>4</th>\n",
       "      <td>0</td>\n",
       "      <td>0</td>\n",
       "      <td>202009</td>\n",
       "      <td>0.839018</td>\n",
       "      <td>All.csv</td>\n",
       "      <td>LSTM_100_1_100</td>\n",
       "    </tr>\n",
       "  </tbody>\n",
       "</table>\n",
       "</div>"
      ],
      "text/plain": [
       "   y  y_pred  y_label      time     file           model\n",
       "0  0       0   202102  0.839018  All.csv  LSTM_100_1_100\n",
       "1  0       0   202103  0.839018  All.csv  LSTM_100_1_100\n",
       "2  1       0   202104  0.839018  All.csv  LSTM_100_1_100\n",
       "3  0       0   202008  0.839018  All.csv  LSTM_100_1_100\n",
       "4  0       0   202009  0.839018  All.csv  LSTM_100_1_100"
      ]
     },
     "execution_count": 4,
     "metadata": {},
     "output_type": "execute_result"
    }
   ],
   "source": [
    "import pandas as pd\n",
    "results = pd.read_csv('results/202205312027.csv')\n",
    "\n",
    "results.head()"
   ]
  },
  {
   "cell_type": "code",
   "execution_count": 7,
   "metadata": {},
   "outputs": [
    {
     "name": "stdout",
     "output_type": "stream",
     "text": [
      "{'LSTM_100_1_100': [0.6451612903225806, 0.5674761935023236, 0.5464821981256976]}\n"
     ]
    }
   ],
   "source": [
    "from methods.preprocess import Preprocess\n",
    "\n",
    "df = results.copy()\n",
    "preprocess = Preprocess()\n",
    "models = list(df.model.unique())\n",
    "accuracies = {}\n",
    "\n",
    "for model in models:\n",
    "\tdf_model = df[df[\"model\"] == model]\n",
    "\ty = df_model[\"y\"].tolist()\n",
    "\ty_pred = df_model[\"y_pred\"].tolist()\n",
    "\n",
    "\tmetrics = preprocess.evaluate(y, y_pred)\n",
    "\taccuracies[model] = metrics[\"fmeasure\"]\n",
    "\n",
    "\n",
    "print(sorted(accuracies.items(), key=lambda x: x[1], reverse=True))"
   ]
  },
  {
   "cell_type": "code",
   "execution_count": 21,
   "metadata": {},
   "outputs": [
    {
     "name": "stdout",
     "output_type": "stream",
     "text": [
      "8794.0 Bermuda.csv\n",
      "328170728965.0 United Rep. of Tanzania.csv\n"
     ]
    }
   ],
   "source": [
    "import os\n",
    "import pandas as pd\n",
    "\n",
    "folder = \"data\"\n",
    "files = sorted(os.listdir(folder))\n",
    "\n",
    "greater = None\n",
    "lower = None\n",
    "greater_country = None\n",
    "lower_country = None\n",
    "\n",
    "\n",
    "for file in files:\n",
    "\tdf = pd.read_csv(os.path.join(folder, file), index_col='Period').sort_index()\n",
    "\tdf = runner.get_df(df)\n",
    "\n",
    "\tif df.shape[0] < 10:\n",
    "\t\tcontinue\n",
    "\n",
    "\tlocal_greater = float(df.loc[df.value.idxmax()])\n",
    "\tlocal_lower = float(df.loc[df.value.idxmin()])\n",
    "\n",
    "\tif greater is None or local_greater > greater:\n",
    "\t\tgreater = local_greater\n",
    "\t\tgreater_country = file\n",
    "\t\n",
    "\tif lower is None or local_lower < lower:\n",
    "\t\tlower = local_lower\n",
    "\t\tlower_country = file\n",
    "\n",
    "\n",
    "print(lower, lower_country)\n",
    "print(greater, greater_country)\n",
    "\n"
   ]
  },
  {
   "cell_type": "code",
   "execution_count": null,
   "metadata": {},
   "outputs": [],
   "source": [
    "328,170,728,965.0"
   ]
  }
 ],
 "metadata": {
  "interpreter": {
   "hash": "592a46525cd41fc2034ee9308cd602c1c2afda19be282adc91ea849179671fc9"
  },
  "kernelspec": {
   "display_name": "Python 3.9.5 ('.venv': venv)",
   "language": "python",
   "name": "python3"
  },
  "language_info": {
   "codemirror_mode": {
    "name": "ipython",
    "version": 3
   },
   "file_extension": ".py",
   "mimetype": "text/x-python",
   "name": "python",
   "nbconvert_exporter": "python",
   "pygments_lexer": "ipython3",
   "version": "3.9.5"
  },
  "orig_nbformat": 4
 },
 "nbformat": 4,
 "nbformat_minor": 2
}
