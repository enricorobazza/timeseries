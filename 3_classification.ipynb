{
 "cells": [
  {
   "cell_type": "code",
   "execution_count": 4,
   "metadata": {},
   "outputs": [],
   "source": [
    "import pandas as pd\n",
    "import os \n",
    "import time\n",
    "import datetime\n",
    "import functools\n",
    "from methods.runner import Runner"
   ]
  },
  {
   "cell_type": "code",
   "execution_count": 8,
   "metadata": {},
   "outputs": [
    {
     "name": "stdout",
     "output_type": "stream",
     "text": [
      "(2032, 1)\n"
     ]
    }
   ],
   "source": [
    "folder = \"data\"\n",
    "\n",
    "files = sorted(os.listdir(folder))\n",
    "\n",
    "runner = Runner(models = None)\n",
    "min_validation_size = 8\n",
    "num_steps = 4\n",
    "validation_split = 0.05\n",
    "min_size = min_validation_size * (num_steps - 1) / validation_split\n",
    "\n",
    "merged_df = None\n",
    "\n",
    "for i, file in enumerate(files):\n",
    "\tdf = pd.read_csv(os.path.join(folder, file), index_col='Period').sort_index()\n",
    "\n",
    "\tif df.shape[0] < min_size:\n",
    "\t\tcontinue\n",
    "\n",
    "\tdf = runner.get_df(df)\n",
    "\tdf = df.pct_change()\n",
    "\tdf.dropna(inplace=True)\n",
    "\n",
    "\tif merged_df is None:\n",
    "\t\tmerged_df = df\n",
    "\telse:\n",
    "\t\tmerged_df = pd.concat([merged_df, df])\n",
    "\n",
    "print(merged_df.shape)\n"
   ]
  },
  {
   "cell_type": "code",
   "execution_count": 9,
   "metadata": {},
   "outputs": [
    {
     "data": {
      "text/html": [
       "<div>\n",
       "<style scoped>\n",
       "    .dataframe tbody tr th:only-of-type {\n",
       "        vertical-align: middle;\n",
       "    }\n",
       "\n",
       "    .dataframe tbody tr th {\n",
       "        vertical-align: top;\n",
       "    }\n",
       "\n",
       "    .dataframe thead th {\n",
       "        text-align: right;\n",
       "    }\n",
       "</style>\n",
       "<table border=\"1\" class=\"dataframe\">\n",
       "  <thead>\n",
       "    <tr style=\"text-align: right;\">\n",
       "      <th></th>\n",
       "      <th>value</th>\n",
       "    </tr>\n",
       "    <tr>\n",
       "      <th>Period</th>\n",
       "      <th></th>\n",
       "    </tr>\n",
       "  </thead>\n",
       "  <tbody>\n",
       "    <tr>\n",
       "      <th>201002</th>\n",
       "      <td>0.251804</td>\n",
       "    </tr>\n",
       "    <tr>\n",
       "      <th>201003</th>\n",
       "      <td>0.112559</td>\n",
       "    </tr>\n",
       "    <tr>\n",
       "      <th>201004</th>\n",
       "      <td>0.198589</td>\n",
       "    </tr>\n",
       "    <tr>\n",
       "      <th>201005</th>\n",
       "      <td>-0.107327</td>\n",
       "    </tr>\n",
       "    <tr>\n",
       "      <th>201006</th>\n",
       "      <td>0.073276</td>\n",
       "    </tr>\n",
       "  </tbody>\n",
       "</table>\n",
       "</div>"
      ],
      "text/plain": [
       "           value\n",
       "Period          \n",
       "201002  0.251804\n",
       "201003  0.112559\n",
       "201004  0.198589\n",
       "201005 -0.107327\n",
       "201006  0.073276"
      ]
     },
     "execution_count": 9,
     "metadata": {},
     "output_type": "execute_result"
    }
   ],
   "source": [
    "merged_df.head()"
   ]
  },
  {
   "cell_type": "code",
   "execution_count": 31,
   "metadata": {},
   "outputs": [
    {
     "name": "stdout",
     "output_type": "stream",
     "text": [
      "103 0.055600000000000004 [746, 643, 643]\n"
     ]
    }
   ],
   "source": [
    "import numpy as np\n",
    "\n",
    "delta = 0.060\n",
    "\n",
    "def get_variation_count(df, delta):\n",
    "\tpositive = df[df[\"value\"] > delta]\n",
    "\tnegative = df[df[\"value\"] < -delta]\n",
    "\tneutral = df[(df[\"value\"] <= delta) & (df[\"value\"] >= -delta)]\n",
    "\n",
    "\treturn positive.shape[0], negative.shape[0], neutral.shape[0]\n",
    "\n",
    "def get_variance(df, delta):\n",
    "\tpositive, negative, neutral = get_variation_count(df, delta)\n",
    "\tmin_val = min(positive, negative, neutral)\n",
    "\n",
    "\tvariances = [positive, negative, neutral]\n",
    "\n",
    "\treturn positive - min_val + negative - min_val + neutral - min_val, variances\n",
    "\n",
    "min_variance = None\n",
    "min_delta_variance = None\n",
    "min_variances = None\n",
    "\n",
    "delta_var = 0.00005\n",
    "qtd = int(1/delta_var)\n",
    "\n",
    "deltas = [x * delta_var for x in range(qtd+1)]\n",
    "\n",
    "for delta in deltas:\n",
    "\tvariance, variances = get_variance(merged_df, delta)\n",
    "\n",
    "\tif min_variance is None:\n",
    "\t\tmin_variance = variance\n",
    "\t\tmin_delta_variance = delta\n",
    "\t\tmin_variances = variances\n",
    "\t\n",
    "\telif variance < min_variance:\n",
    "\t\tmin_variance = variance\n",
    "\t\tmin_delta_variance = delta\n",
    "\t\tmin_variances = variances\n",
    "\n",
    "print(min_variance, min_delta_variance, min_variances)\n",
    "\n",
    "# print(get_variation_count(merged_df, delta))"
   ]
  },
  {
   "cell_type": "code",
   "execution_count": null,
   "metadata": {},
   "outputs": [],
   "source": []
  }
 ],
 "metadata": {
  "interpreter": {
   "hash": "592a46525cd41fc2034ee9308cd602c1c2afda19be282adc91ea849179671fc9"
  },
  "kernelspec": {
   "display_name": "Python 3.9.5 ('.venv': venv)",
   "language": "python",
   "name": "python3"
  },
  "language_info": {
   "codemirror_mode": {
    "name": "ipython",
    "version": 3
   },
   "file_extension": ".py",
   "mimetype": "text/x-python",
   "name": "python",
   "nbconvert_exporter": "python",
   "pygments_lexer": "ipython3",
   "version": "3.9.5"
  },
  "orig_nbformat": 4
 },
 "nbformat": 4,
 "nbformat_minor": 2
}
