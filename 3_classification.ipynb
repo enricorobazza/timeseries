{
 "cells": [
  {
   "cell_type": "code",
   "execution_count": 1,
   "metadata": {},
   "outputs": [],
   "source": [
    "import pandas as pd\n",
    "import os \n",
    "import time\n",
    "import datetime\n",
    "import functools\n",
    "from .methods.runner import Runner"
   ]
  },
  {
   "cell_type": "code",
   "execution_count": null,
   "metadata": {},
   "outputs": [],
   "source": [
    "folder = \"data\"\n",
    "\n",
    "files = sorted(os.listdir(folder))\n",
    "\n",
    "runner = Runner(models = None)\n",
    "min_validation_size = 8\n",
    "num_steps = 4\n",
    "validation_split = 0.05\n",
    "min_size = min_validation_size * (num_steps - 1) / validation_split\n",
    "\n",
    "for i, file in enumerate(files):\n",
    "\tdf = pd.read_csv(os.path.join(folder, file), index_col='Period').sort_index()\n",
    "\n",
    "\tif df.shape[0] < min_size:\n",
    "\t\tcontinue\n",
    "\n",
    "\tdf = runner.get_df(df)"
   ]
  }
 ],
 "metadata": {
  "interpreter": {
   "hash": "592a46525cd41fc2034ee9308cd602c1c2afda19be282adc91ea849179671fc9"
  },
  "kernelspec": {
   "display_name": "Python 3.9.5 ('.venv': venv)",
   "language": "python",
   "name": "python3"
  },
  "language_info": {
   "codemirror_mode": {
    "name": "ipython",
    "version": 3
   },
   "file_extension": ".py",
   "mimetype": "text/x-python",
   "name": "python",
   "nbconvert_exporter": "python",
   "pygments_lexer": "ipython3",
   "version": "3.9.5"
  },
  "orig_nbformat": 4
 },
 "nbformat": 4,
 "nbformat_minor": 2
}
