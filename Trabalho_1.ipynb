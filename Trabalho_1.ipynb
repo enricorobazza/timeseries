{
  "cells": [
    {
      "cell_type": "markdown",
      "metadata": {
        "id": "v_01JjFjqyQ5"
      },
      "source": [
        "## Trabalho 1\n",
        "#### A partir do material visto nas aulas, criar um ou mais algoritmos que investem de forma eficiente (maior retorno, menor risco, maior relação retorno/risco) nos seguintes índices e taxas: \n",
        "\n",
        "- IBOVESPA\n",
        "- SELIC\n",
        "- IMA-B (Tesouro IPCA)\n",
        "- OURO\n",
        "- USDBRL (Dólar)\n",
        "- SP500BRL (S&P 500 em R$) "
      ]
    },
    {
      "cell_type": "code",
      "execution_count": 18,
      "metadata": {
        "id": "RY6QrSg0SrsC"
      },
      "outputs": [],
      "source": [
        "import pandas as pd\n",
        "import datetime\n",
        "import numpy as np\n",
        "import pdb\n",
        "import plotly.graph_objects as go\n",
        "import scipy.optimize as sc\n",
        "\n",
        "\n",
        "import matplotlib.pyplot as plt"
      ]
    },
    {
      "cell_type": "code",
      "execution_count": 24,
      "metadata": {
        "colab": {
          "base_uri": "https://localhost:8080/"
        },
        "id": "CicysdRoNpBD",
        "outputId": "6d42dba3-3afe-4222-e192-04c5e7fb5547"
      },
      "outputs": [
        {
          "name": "stdout",
          "output_type": "stream",
          "text": [
            "Downloading Dados-Trabalho-2004-2015.xlsx to content/data/Dados-Trabalho-2004-2015.xlsx\n"
          ]
        }
      ],
      "source": [
        "## This code downloads the data file to local execution\n",
        "\n",
        "# File Service\n",
        "from google.colab import auth\n",
        "auth.authenticate_user()\n",
        "from googleapiclient.discovery import build\n",
        "drive_service = build('drive', 'v3')\n",
        "from googleapiclient.http import MediaIoBaseDownload\n",
        "import io\n",
        "import os\n",
        "\n",
        "def download_file_by_id(file_id, file_path, drive_service):\n",
        "  file_service = drive_service.files()\n",
        "  file_name = file_service.get(fileId=file_id, fields=\"name\", supportsAllDrives=True).execute()['name']\n",
        "  request = drive_service.files().get_media(fileId=file_id, supportsAllDrives=True)\n",
        "  downloaded = io.BytesIO()\n",
        "  downloader = MediaIoBaseDownload(downloaded, request)\n",
        "  done = False\n",
        "  while done is False:\n",
        "    _, done = downloader.next_chunk()\n",
        "\n",
        "  downloaded.seek(0)\n",
        "  content = downloaded.read()\n",
        "\n",
        "  file_path = os.path.join(file_path, file_name)\n",
        "\n",
        "  print(\"Downloading %s to %s\"%(file_name, file_path))\n",
        "  with open(file_path, \"wb\") as file:\n",
        "    file.write(content)\n",
        "\n",
        "  return file_path\n",
        "\n",
        "if not os.path.exists(\"content/data\"):\n",
        "  os.makedirs(\"content/data\")\n",
        "\n",
        "file_path = download_file_by_id(\"1eMba4gnU5tndWZMiPcp0_NrLupsWHs7u\", \"content/data\", drive_service)"
      ]
    },
    {
      "cell_type": "code",
      "execution_count": 3,
      "metadata": {
        "colab": {
          "base_uri": "https://localhost:8080/",
          "height": 455
        },
        "id": "5sa2Nhl_nxC0",
        "outputId": "520fc146-793d-40d7-e315-9cddaa05b441"
      },
      "outputs": [
        {
          "data": {
            "text/html": [
              "<div>\n",
              "<style scoped>\n",
              "    .dataframe tbody tr th:only-of-type {\n",
              "        vertical-align: middle;\n",
              "    }\n",
              "\n",
              "    .dataframe tbody tr th {\n",
              "        vertical-align: top;\n",
              "    }\n",
              "\n",
              "    .dataframe thead th {\n",
              "        text-align: right;\n",
              "    }\n",
              "</style>\n",
              "<table border=\"1\" class=\"dataframe\">\n",
              "  <thead>\n",
              "    <tr style=\"text-align: right;\">\n",
              "      <th></th>\n",
              "      <th>IBOV</th>\n",
              "      <th>USDBRL</th>\n",
              "      <th>OURO</th>\n",
              "      <th>SELIC</th>\n",
              "      <th>IMAB</th>\n",
              "      <th>SP500BRL</th>\n",
              "    </tr>\n",
              "    <tr>\n",
              "      <th>Data</th>\n",
              "      <th></th>\n",
              "      <th></th>\n",
              "      <th></th>\n",
              "      <th></th>\n",
              "      <th></th>\n",
              "      <th></th>\n",
              "    </tr>\n",
              "  </thead>\n",
              "  <tbody>\n",
              "    <tr>\n",
              "      <th>2003-12-01</th>\n",
              "      <td>22236</td>\n",
              "      <td>2.8892</td>\n",
              "      <td>38.600</td>\n",
              "      <td>1031.614995</td>\n",
              "      <td>811.970067</td>\n",
              "      <td>3212.559264</td>\n",
              "    </tr>\n",
              "    <tr>\n",
              "      <th>2004-01-01</th>\n",
              "      <td>21851</td>\n",
              "      <td>2.9409</td>\n",
              "      <td>37.900</td>\n",
              "      <td>1044.691245</td>\n",
              "      <td>859.640824</td>\n",
              "      <td>3326.481399</td>\n",
              "    </tr>\n",
              "    <tr>\n",
              "      <th>2004-02-01</th>\n",
              "      <td>21755</td>\n",
              "      <td>2.9138</td>\n",
              "      <td>37.000</td>\n",
              "      <td>1056.019816</td>\n",
              "      <td>872.124846</td>\n",
              "      <td>3336.126172</td>\n",
              "    </tr>\n",
              "    <tr>\n",
              "      <th>2004-03-01</th>\n",
              "      <td>22142</td>\n",
              "      <td>2.9086</td>\n",
              "      <td>39.300</td>\n",
              "      <td>1070.583633</td>\n",
              "      <td>884.873768</td>\n",
              "      <td>3275.694406</td>\n",
              "    </tr>\n",
              "    <tr>\n",
              "      <th>2004-04-01</th>\n",
              "      <td>19607</td>\n",
              "      <td>2.9447</td>\n",
              "      <td>36.400</td>\n",
              "      <td>1083.236327</td>\n",
              "      <td>893.734774</td>\n",
              "      <td>3260.666310</td>\n",
              "    </tr>\n",
              "    <tr>\n",
              "      <th>...</th>\n",
              "      <td>...</td>\n",
              "      <td>...</td>\n",
              "      <td>...</td>\n",
              "      <td>...</td>\n",
              "      <td>...</td>\n",
              "      <td>...</td>\n",
              "    </tr>\n",
              "    <tr>\n",
              "      <th>2015-08-01</th>\n",
              "      <td>46625</td>\n",
              "      <td>3.6467</td>\n",
              "      <td>131.500</td>\n",
              "      <td>3930.226450</td>\n",
              "      <td>3735.785498</td>\n",
              "      <td>7191.948806</td>\n",
              "    </tr>\n",
              "    <tr>\n",
              "      <th>2015-09-01</th>\n",
              "      <td>45059</td>\n",
              "      <td>3.9729</td>\n",
              "      <td>141.000</td>\n",
              "      <td>3973.811230</td>\n",
              "      <td>3710.203522</td>\n",
              "      <td>7628.087187</td>\n",
              "    </tr>\n",
              "    <tr>\n",
              "      <th>2015-10-01</th>\n",
              "      <td>45868</td>\n",
              "      <td>3.8589</td>\n",
              "      <td>140.250</td>\n",
              "      <td>4017.879360</td>\n",
              "      <td>3805.753621</td>\n",
              "      <td>8024.042304</td>\n",
              "    </tr>\n",
              "    <tr>\n",
              "      <th>2015-11-01</th>\n",
              "      <td>45120</td>\n",
              "      <td>3.8506</td>\n",
              "      <td>132.002</td>\n",
              "      <td>4060.303280</td>\n",
              "      <td>3845.014402</td>\n",
              "      <td>8010.826746</td>\n",
              "    </tr>\n",
              "    <tr>\n",
              "      <th>2015-12-01</th>\n",
              "      <td>43349</td>\n",
              "      <td>3.9048</td>\n",
              "      <td>135.500</td>\n",
              "      <td>4107.487140</td>\n",
              "      <td>3903.536544</td>\n",
              "      <td>7981.176912</td>\n",
              "    </tr>\n",
              "  </tbody>\n",
              "</table>\n",
              "<p>145 rows × 6 columns</p>\n",
              "</div>"
            ],
            "text/plain": [
              "             IBOV  USDBRL     OURO        SELIC         IMAB     SP500BRL\n",
              "Data                                                                     \n",
              "2003-12-01  22236  2.8892   38.600  1031.614995   811.970067  3212.559264\n",
              "2004-01-01  21851  2.9409   37.900  1044.691245   859.640824  3326.481399\n",
              "2004-02-01  21755  2.9138   37.000  1056.019816   872.124846  3336.126172\n",
              "2004-03-01  22142  2.9086   39.300  1070.583633   884.873768  3275.694406\n",
              "2004-04-01  19607  2.9447   36.400  1083.236327   893.734774  3260.666310\n",
              "...           ...     ...      ...          ...          ...          ...\n",
              "2015-08-01  46625  3.6467  131.500  3930.226450  3735.785498  7191.948806\n",
              "2015-09-01  45059  3.9729  141.000  3973.811230  3710.203522  7628.087187\n",
              "2015-10-01  45868  3.8589  140.250  4017.879360  3805.753621  8024.042304\n",
              "2015-11-01  45120  3.8506  132.002  4060.303280  3845.014402  8010.826746\n",
              "2015-12-01  43349  3.9048  135.500  4107.487140  3903.536544  7981.176912\n",
              "\n",
              "[145 rows x 6 columns]"
            ]
          },
          "execution_count": 3,
          "metadata": {},
          "output_type": "execute_result"
        }
      ],
      "source": [
        "file_path = \"content/data/Dados-Trabalho-2004-2015.xlsx\"\n",
        "df = pd.read_excel(file_path)\n",
        "\n",
        "def format_data(data):\n",
        "  month = data.split(\"-\")[0]\n",
        "  year = int(data.split(\"-\")[1])\n",
        "  months = [\"Jan\", \"Fev\", \"Mar\", \"Abr\", \"Mai\", \"Jun\", \"Jul\", \"Ago\", \"Set\", \"Out\", \"Nov\", \"Dez\"]\n",
        "  month = months.index(month) + 1\n",
        "  return datetime.datetime(year, month, 1)\n",
        "\n",
        "df[\"Data\"] = df[\"Data\"].apply(format_data)\n",
        "df.set_index(\"Data\", inplace=True)\n",
        "\n",
        "df"
      ]
    },
    {
      "cell_type": "code",
      "execution_count": 4,
      "metadata": {
        "colab": {
          "base_uri": "https://localhost:8080/",
          "height": 353
        },
        "id": "uajSP2bVj1Xt",
        "outputId": "953a2b99-ac7d-4459-8bc9-46f144684066"
      },
      "outputs": [
        {
          "data": {
            "text/plain": [
              "<AxesSubplot:xlabel='Data'>"
            ]
          },
          "execution_count": 4,
          "metadata": {},
          "output_type": "execute_result"
        },
        {
          "data": {
            "image/png": "[encoded data removed]",
            "text/plain": [
              "<Figure size 1080x360 with 1 Axes>"
            ]
          },
          "metadata": {
            "needs_background": "light"
          },
          "output_type": "display_data"
        }
      ],
      "source": [
        "normalized = df.copy()\n",
        "\n",
        "for col in df.columns:\n",
        "  normalized[col] = normalized[col] * 100 / normalized[col].iloc[0]\n",
        "\n",
        "normalized.plot(figsize = (15,5))\n"
      ]
    },
    {
      "cell_type": "code",
      "execution_count": 5,
      "metadata": {
        "id": "_3MKciXBj6PT"
      },
      "outputs": [],
      "source": [
        "def calc_ret_vol(assets, weights):\n",
        "  \"\"\"\n",
        "    Gets annualized returns and vol\n",
        "  \"\"\"\n",
        "  years = normalized.index.year.unique()\n",
        "\n",
        "  port = assets.dot(weights)\n",
        "  port_chg = port.pct_change()\n",
        "  port_chg = port_chg.fillna(0)\n",
        "  ret = ((port.iloc[-1]/port.iloc[0])**(1/len(years)))-1\n",
        "  vol = port_chg.std()*np.sqrt(252)\n",
        "  return ret, vol"
      ]
    },
    {
      "cell_type": "code",
      "execution_count": 6,
      "metadata": {
        "colab": {
          "base_uri": "https://localhost:8080/"
        },
        "id": "Au4NR6BDTMIt",
        "outputId": "ad19ca62-dd2e-4b19-bf2e-54af8d8ca2a0"
      },
      "outputs": [
        {
          "name": "stdout",
          "output_type": "stream",
          "text": [
            "Aloc: 0.0 1.0 Ret: 0.128 Vol: 0.296\n",
            "Aloc: 0.05 0.95 Ret: 0.128 Vol: 0.284\n",
            "Aloc: 0.1 0.9 Ret: 0.127 Vol: 0.271\n",
            "Aloc: 0.15 0.85 Ret: 0.126 Vol: 0.258\n",
            "Aloc: 0.2 0.8 Ret: 0.125 Vol: 0.245\n",
            "Aloc: 0.25 0.75 Ret: 0.125 Vol: 0.231\n",
            "Aloc: 0.3 0.7 Ret: 0.124 Vol: 0.218\n",
            "Aloc: 0.35 0.65 Ret: 0.123 Vol: 0.204\n",
            "Aloc: 0.4 0.6 Ret: 0.122 Vol: 0.191\n",
            "Aloc: 0.45 0.55 Ret: 0.121 Vol: 0.177\n",
            "Aloc: 0.5 0.5 Ret: 0.121 Vol: 0.163\n",
            "Aloc: 0.55 0.45 Ret: 0.12 Vol: 0.149\n",
            "Aloc: 0.6 0.4 Ret: 0.119 Vol: 0.134\n",
            "Aloc: 0.65 0.35 Ret: 0.118 Vol: 0.12\n",
            "Aloc: 0.7 0.3 Ret: 0.117 Vol: 0.106\n",
            "Aloc: 0.75 0.25 Ret: 0.116 Vol: 0.092\n",
            "Aloc: 0.8 0.2 Ret: 0.116 Vol: 0.078\n",
            "Aloc: 0.85 0.15 Ret: 0.115 Vol: 0.065\n",
            "Aloc: 0.9 0.1 Ret: 0.114 Vol: 0.053\n",
            "Aloc: 0.95 0.05 Ret: 0.113 Vol: 0.045\n",
            "Aloc: 1.0 0.0 Ret: 0.112 Vol: 0.042\n"
          ]
        }
      ],
      "source": [
        "#Portfolio com 2 ativos\n",
        "\n",
        "points = [] \n",
        "min_vol_ret = [100, 0] #[vol, ret]\n",
        "weights = [0, 0, 0, 0, 0, 0]\n",
        "for w in range(0, 101, 5):\n",
        "  ret, vol = calc_ret_vol(normalized, [0, 0, 0, w/100, (1-w/100), 0])\n",
        "  print(\"Aloc:\", round(w/100, 2), round(1-(w/100),2), \"Ret:\", round(ret, 3), \"Vol:\", round(vol, 3)) \n",
        "  points.append([ret, vol])\n",
        "  if vol < min_vol_ret[0]:\n",
        "    min_vol_ret[0] = vol\n",
        "    min_vol_ret[1] = ret\n",
        "    weights[3] = w/100\n",
        "    weights[4] = 1-w/100"
      ]
    },
    {
      "cell_type": "code",
      "execution_count": 7,
      "metadata": {
        "colab": {
          "base_uri": "https://localhost:8080/",
          "height": 279
        },
        "id": "vflpDubaTN1t",
        "outputId": "cff53dbb-d91d-45d7-e553-ab9a91ab3b7d"
      },
      "outputs": [
        {
          "data": {
            "image/png": "[encoded data removed]",
            "text/plain": [
              "<Figure size 432x288 with 1 Axes>"
            ]
          },
          "metadata": {
            "needs_background": "light"
          },
          "output_type": "display_data"
        }
      ],
      "source": [
        "lp = np.array(points).T\n",
        "plt.scatter(lp[[1][:]],lp[[0][:]]);\n",
        "plt.ylabel(\"Retorno\");\n",
        "plt.xlabel(\"Volatilidade\");\n",
        "\n",
        "years = normalized.index.year.unique()\n",
        "\n",
        "# vol_aa = normalized.pct_change().std()*np.sqrt(252)\n",
        "# ret_aa = ((normalized.iloc[-1]/normalized.iloc[0])**(1/len(years)))-1\n",
        "\n",
        "# plt.scatter(vol_aa['GUAR3.SA'], ret_aa['GUAR3.SA'], color='red');\n",
        "# plt.text(vol_aa['GUAR3.SA'], ret_aa['GUAR3.SA'], 'GUAR3');\n",
        "\n",
        "# plt.scatter(vol_aa['JBSS3.SA'], ret_aa['JBSS3.SA'], color='red');\n",
        "# plt.text(vol_aa['JBSS3.SA'], ret_aa['JBSS3.SA'], 'JBSS3');\n",
        "\n",
        "# plt.scatter(min_vol_ret[0], min_vol_ret[1], color='green');\n",
        "# plt.text(min_vol_ret[0], min_vol_ret[1], 'Min. Vol.');"
      ]
    },
    {
      "cell_type": "code",
      "execution_count": 17,
      "metadata": {
        "colab": {
          "base_uri": "https://localhost:8080/"
        },
        "id": "T9BSBgM1UiWr",
        "outputId": "fc837cc4-6551-41c9-fc02-aca6ee921dda"
      },
      "outputs": [
        {
          "name": "stdout",
          "output_type": "stream",
          "text": [
            "845.5657492354741\n",
            "['nothing', 'nothing', 'buy', 'sell', 'nothing', 'buy', 'nothing', 'nothing', 'nothing', 'sell', 'buy', 'nothing', 'sell', 'buy', 'sell', 'nothing', 'buy', 'sell', 'buy', 'nothing', 'nothing', 'sell', 'buy', 'nothing', 'nothing', 'nothing', 'sell', 'buy', 'sell', 'buy', 'nothing', 'sell', 'buy', 'nothing', 'nothing', 'nothing', 'nothing', 'sell', 'buy', 'nothing', 'nothing', 'nothing', 'sell', 'buy', 'nothing', 'nothing', 'sell', 'buy', 'sell', 'buy', 'sell', 'buy', 'nothing', 'sell', 'nothing', 'nothing', 'nothing', 'nothing', 'nothing', 'buy', 'nothing', 'sell', 'buy', 'nothing', 'nothing', 'sell', 'buy', 'nothing', 'nothing', 'nothing', 'nothing', 'nothing', 'sell', 'buy', 'nothing', 'sell', 'nothing', 'nothing', 'buy', 'sell', 'buy', 'nothing', 'sell', 'buy', 'sell', 'buy', 'nothing', 'sell', 'nothing', 'nothing', 'nothing', 'nothing', 'nothing', 'buy', 'sell', 'nothing', 'buy', 'nothing', 'sell', 'nothing', 'nothing', 'nothing', 'buy', 'nothing', 'nothing', 'sell', 'buy', 'nothing', 'sell', 'nothing', 'nothing', 'nothing', 'nothing', 'nothing', 'buy', 'nothing', 'nothing', 'nothing', 'sell', 'nothing', 'nothing', 'nothing', 'buy', 'nothing', 'sell', 'buy', 'nothing', 'nothing', 'sell', 'buy', 'nothing', 'sell', 'nothing', 'buy', 'sell', 'buy', 'sell', 'buy', 'sell', 'nothing', 'nothing', 'buy', 'sell', 'nothing', 'nothing']\n",
            "20200\n"
          ]
        },
        {
          "data": {
            "text/plain": [
              "<AxesSubplot:xlabel='Date'>"
            ]
          },
          "execution_count": 17,
          "metadata": {},
          "output_type": "execute_result"
        },
        {
          "data": {
            "image/png": "[encoded data removed]",
            "text/plain": [
              "<Figure size 432x288 with 1 Axes>"
            ]
          },
          "metadata": {
            "needs_background": "light"
          },
          "output_type": "display_data"
        }
      ],
      "source": [
        "def get_hash(op, period, price_paid):\n",
        "  return \"%s_%d_%.2f\"%(op, period, price_paid)\n",
        "\n",
        "class Solver():\n",
        "  def __init__(self):\n",
        "    self.memo = {}\n",
        "    self.total_access = 0\n",
        "\n",
        "  def get_memo(self, hash):\n",
        "    self.total_access += 1\n",
        "    return self.memo[hash]\n",
        "\n",
        "  def recursive(self, data, period = 0, price_paid = -1):\n",
        "    possibilities = []\n",
        "    paths = []\n",
        "\n",
        "    hash_buy = get_hash(\"buy\", period, price_paid)\n",
        "    hash_sell = get_hash(\"sell\", period, price_paid)\n",
        "    hash_nothing = get_hash(\"nothing\", period, price_paid)\n",
        "\n",
        "    hashs = {\n",
        "      \"buy\": hash_buy,\n",
        "      \"sell\": hash_sell,\n",
        "      \"nothing\": hash_nothing\n",
        "    }\n",
        "\n",
        "    current_price = data.iloc[period]\n",
        "\n",
        "    def do_move(move, period, price, profit = 0):\n",
        "      hash = hashs[move]\n",
        "      value = 0\n",
        "      path = []\n",
        "      if hash not in self.memo:\n",
        "        value, path = self.recursive(data, period, price)\n",
        "        self.memo[hash] = [value, path]\n",
        "      else:\n",
        "        value, path = self.get_memo(hash)\n",
        "\n",
        "      value += profit\n",
        "\n",
        "      possibilities.append(value)\n",
        "      paths.append([move] + path)\n",
        "    \n",
        "    if period == data.shape[0] - 1: # last period\n",
        "      if price_paid >= 0:\n",
        "        profit = current_price - price_paid # selling\n",
        "        return profit, [\"sell\"]\n",
        "      else:\n",
        "        return 0, [\"nothing\"]\n",
        "\n",
        "    if period == 0: # first period\n",
        "      do_move(\"buy\", 1, current_price)\n",
        "      do_move(\"nothing\", 1, -1)\n",
        "\n",
        "    if price_paid >= 0: # have bought\n",
        "      profit = current_price - price_paid\n",
        "      do_move(\"sell\", period +1, -1, profit)\n",
        "\n",
        "    else:\n",
        "      do_move(\"buy\", period + 1, current_price)\n",
        "\n",
        "    do_move(\"nothing\", period + 1, price_paid)\n",
        "\n",
        "    max_possibility = max(possibilities)\n",
        "    max_index = possibilities.index(max_possibility)\n",
        "    max_path = paths[max_index]\n",
        "\n",
        "    return max_possibility, max_path\n",
        "\n",
        "def run_path(data, path):\n",
        "  df = []\n",
        "  curr_profit = 0\n",
        "  paid_price = -1\n",
        "\n",
        "  for i, move in enumerate(path):\n",
        "    date = data.index[i]\n",
        "    current_price = data.iloc[i]\n",
        "\n",
        "    if move == \"sell\":\n",
        "      profit = current_price - paid_price\n",
        "      paid_price = -1\n",
        "      curr_profit += profit\n",
        "    \n",
        "    elif move == \"buy\":\n",
        "      paid_price = current_price\n",
        "\n",
        "    df += [[date, curr_profit]]\n",
        "\n",
        "  df = pd.DataFrame(df, columns = [\"Date\", \"Return\"])\n",
        "  return df.set_index(\"Date\")\n",
        "\n",
        "def best_possible_outcome(data):\n",
        "  # pdb.set_trace()\n",
        "  solver = Solver()\n",
        "  value, path = solver.recursive(data)\n",
        "  print(value)\n",
        "  print(path)\n",
        "  print(solver.total_access)\n",
        "\n",
        "  return path\n",
        "\n",
        "path = best_possible_outcome(normalized[\"IBOV\"])\n",
        "df_path = run_path(normalized[\"IBOV\"], path)\n",
        "df_path.plot()"
      ]
    },
    {
      "cell_type": "code",
      "execution_count": 53,
      "metadata": {
        "colab": {
          "base_uri": "https://localhost:8080/"
        },
        "id": "_9kAuhNBWdfb",
        "outputId": "c483e798-95e4-475d-c2a9-2cff9b1738d1"
      },
      "outputs": [
        {
          "data": {
            "text/plain": [
              "Data\n",
              "2003-12-01    100.000000\n",
              "2004-01-01     98.268573\n",
              "2004-02-01     97.836841\n",
              "2004-03-01     99.577262\n",
              "2004-04-01     88.176830\n",
              "Name: IBOV, dtype: float64"
            ]
          },
          "execution_count": 53,
          "metadata": {},
          "output_type": "execute_result"
        }
      ],
      "source": [
        "normalized[\"IBOV\"].iloc[:5]\n"
      ]
    },
    {
      "cell_type": "code",
      "execution_count": 19,
      "metadata": {
        "id": "MK0H1DqcaRLw"
      },
      "outputs": [],
      "source": [
        "class EfficientFrontier():\n",
        "  def __init__(self, df, risk_free_rate = 0.05):\n",
        "    self.df = df\n",
        "    self.weights = np.array([1.0/len(df.columns)] * len(df.columns)) # equal weights\n",
        "    self.risk_free_rate = risk_free_rate\n",
        "\n",
        "  def calc(self):\n",
        "    mean_returns = self.get_mean_returns()\n",
        "    cov_matrix = self.get_cov_matrix()\n",
        "\n",
        "    returns, std = self.portfolio_performance(self.weights, mean_returns, cov_matrix)\n",
        "    returns, std = round(returns*100, 2), round(std*100, 2)\n",
        "\n",
        "    self.ef_graph(mean_returns, cov_matrix, returns, std)\n",
        "\n",
        "  def get_mean_returns(self):\n",
        "    returns = self.df.pct_change()\n",
        "    mean_returns = returns.mean()\n",
        "    return mean_returns\n",
        "\n",
        "  def get_cov_matrix(self):\n",
        "    returns = self.df.pct_change()\n",
        "    cov_matrix = returns.cov()\n",
        "    return cov_matrix\n",
        "\n",
        "  def portfolio_performance(self, weights, mean_returns, cov_matrix):\n",
        "    returns = np.sum(mean_returns*weights)*self.df.shape[0]\n",
        "    std = np.sqrt(np.dot(weights.T, np.dot(cov_matrix, weights))) * np.sqrt(self.df.shape[0])\n",
        "\n",
        "    return returns, std\n",
        "\n",
        "  def ef_graph(self, mean_returns, cov_matrix, returns, std,):\n",
        "    max_sr_returns, max_sr_std, max_sr_allocation, min_vol_returns, min_vol_std, min_vol_allocation, efficient_list, target_returns \\\n",
        "      = self.calculated_results(mean_returns, cov_matrix)\n",
        "\n",
        "    max_sharpe_ratio = go.Scatter(\n",
        "        name='Maximum Sharpe Ratio',\n",
        "        mode='markers',\n",
        "        x=[max_sr_std],\n",
        "        y=[max_sr_returns],\n",
        "        marker=dict(color='red', size=14, line=dict(width=3, color='black'))\n",
        "    )\n",
        "\n",
        "    print(max_sr_allocation)\n",
        "    print(min_vol_allocation)\n",
        "\n",
        "    min_vol_ratio = go.Scatter(\n",
        "        name='Minimum Volatility',\n",
        "        mode='markers',\n",
        "        x=[min_vol_std],\n",
        "        y=[min_vol_returns],\n",
        "        marker=dict(color='green', size=14, line=dict(width=3, color='black'))\n",
        "    )\n",
        "\n",
        "    ef_curve = go.Scatter(\n",
        "        name='Efficient Frontier',\n",
        "        mode='lines',\n",
        "        x=[round(ef_std*100, 2) for ef_std in efficient_list],\n",
        "        y=[round(target*100, 2) for target in target_returns],\n",
        "        line=dict(color='black', width=4, dash='dashdot')\n",
        "    )\n",
        "\n",
        "    data = [max_sharpe_ratio, min_vol_ratio, ef_curve]\n",
        "    layout = go.Layout(\n",
        "        title = 'Portfolio optitmisation',\n",
        "        yaxis = dict(title='Annualised Return (%)'),\n",
        "        xaxis = dict(title= 'Annualised Volatility (%)'),\n",
        "        showlegend = True,\n",
        "        legend = dict(\n",
        "            x = 0.75, y = 0, traceorder = 'normal',\n",
        "            bgcolor='#e2e2e2',\n",
        "            bordercolor='black',\n",
        "            borderwidth=2\n",
        "        ),\n",
        "        width=800,\n",
        "        height=600\n",
        "    )\n",
        "    fig = go.Figure(data=data, layout=layout)\n",
        "\n",
        "    return fig.show()\n",
        "\n",
        "\n",
        "  def calculated_results(self, mean_returns, cov_matrix):\n",
        "    max_sr_returns, max_sr_std, max_sr_allocation = self.get_results(self.maximize_sr, mean_returns, cov_matrix)\n",
        "    min_vol_returns, min_vol_std, min_vol_allocation = self.get_results(self.minimize_variance, mean_returns, cov_matrix)\n",
        "\n",
        "    target_returns = np.linspace(min_vol_returns, max_sr_returns, 20)\n",
        "    efficient_list = []\n",
        "    for target in target_returns:\n",
        "        efficient_list.append(self.efficient_optimization(mean_returns, cov_matrix, target)['fun'])\n",
        "\n",
        "    max_sr_returns, max_sr_std = round(max_sr_returns*100, 2), round(max_sr_std*100, 2)\n",
        "    min_vol_returns, min_vol_std = round(min_vol_returns*100, 2), round(min_vol_std*100, 2)\n",
        "\n",
        "    return max_sr_returns, max_sr_std, max_sr_allocation, min_vol_returns, min_vol_std, min_vol_allocation, efficient_list, target_returns\n",
        "\n",
        "  def efficient_optimization(self, mean_returns, cov_matrix, return_target):\n",
        "    num_assets = len(mean_returns)\n",
        "    args = (mean_returns, cov_matrix)\n",
        "    constraints = (\n",
        "        {'type': 'eq', 'fun': lambda x: self.portfolio_return(x, mean_returns, cov_matrix) - return_target},\n",
        "        {'type': 'eq', 'fun': lambda x: np.sum(x) - 1}\n",
        "    )\n",
        "    bound = (0, 1)\n",
        "    bounds = tuple(bound for asset in range(num_assets))\n",
        "    eff_opt = sc.minimize(self.portfolio_variance, num_assets*[1./num_assets], args=args, method=\"SLSQP\", bounds=bounds, constraints=constraints)\n",
        "    return eff_opt\n",
        "\n",
        "  def get_results(self, func, mean_returns, cov_matrix):\n",
        "    portfolio = func(mean_returns, cov_matrix)\n",
        "    returns, std = self.portfolio_performance(portfolio['x'], mean_returns, cov_matrix)\n",
        "    allocation = pd.DataFrame(portfolio['x'], index = mean_returns.index, columns=['allocation'])\n",
        "    return returns, std, allocation\n",
        "\n",
        "  def negative_sr(self, weights, mean_returns, cov_matrix):\n",
        "    p_returns, p_std = self.portfolio_performance(weights, mean_returns, cov_matrix)\n",
        "    return - (p_returns - self.risk_free_rate)/p_std\n",
        "\n",
        "  def portfolio_variance(self, weights, mean_returns, cov_matrix):\n",
        "    return self.portfolio_performance(weights, mean_returns, cov_matrix)[1]\n",
        "\n",
        "  def portfolio_return(self, weights, mean_returns, cov_matrix):\n",
        "    return self.portfolio_performance(weights, mean_returns, cov_matrix)[0]\n",
        "\n",
        "  def maximize_sr(self, mean_returns, cov_matrix):\n",
        "    num_assets = len(mean_returns)\n",
        "    args = (mean_returns, cov_matrix)\n",
        "    constraints = ({'type': 'eq', 'fun': lambda x: np.sum(x) - 1})\n",
        "    bound = (0, 1)\n",
        "    bounds = tuple(bound for asset in range(num_assets))\n",
        "    result = sc.minimize(self.negative_sr, num_assets*[1./num_assets], args=args, method='SLSQP', bounds=bounds, constraints=constraints)\n",
        "    return result\n",
        "\n",
        "  def minimize_variance(self, mean_returns, cov_matrix,):\n",
        "    num_assets = len(mean_returns)\n",
        "    args = (mean_returns, cov_matrix)\n",
        "    constraints = ({'type': 'eq', 'fun': lambda x: np.sum(x) - 1})\n",
        "    bound = (0, 1)\n",
        "    bounds = tuple(bound for asset in range(num_assets))\n",
        "    result = sc.minimize(self.portfolio_variance, num_assets*[1./num_assets], args=args, method='SLSQP', bounds=bounds, constraints=constraints)\n",
        "    return result \n",
        "\n"
      ]
    },
    {
      "cell_type": "code",
      "execution_count": 20,
      "metadata": {},
      "outputs": [
        {
          "name": "stdout",
          "output_type": "stream",
          "text": [
            "          allocation\n",
            "IBOV        0.000000\n",
            "USDBRL      0.000000\n",
            "OURO        0.000000\n",
            "SELIC       0.974238\n",
            "IMAB        0.014153\n",
            "SP500BRL    0.011610\n",
            "            allocation\n",
            "IBOV      0.000000e+00\n",
            "USDBRL    4.192472e-18\n",
            "OURO      0.000000e+00\n",
            "SELIC     9.760816e-01\n",
            "IMAB      1.175961e-02\n",
            "SP500BRL  1.215877e-02\n"
          ]
        },
        {
          "data": {
            "application/vnd.plotly.v1+json": {
              "config": {
                "plotlyServerURL": "https://plot.ly"
              },
              "data": [
                {
                  "marker": {
                    "color": "red",
                    "line": {
                      "color": "black",
                      "width": 3
                    },
                    "size": 14
                  },
                  "mode": "markers",
                  "name": "Maximum Sharpe Ratio",
                  "type": "scatter",
                  "x": [
                    3.91
                  ],
                  "y": [
                    242.88
                  ]
                },
                {
                  "marker": {
                    "color": "green",
                    "line": {
                      "color": "black",
                      "width": 3
                    },
                    "size": 14
                  },
                  "mode": "markers",
                  "name": "Minimum Volatility",
                  "type": "scatter",
                  "x": [
                    3.91
                  ],
                  "y": [
                    242.76
                  ]
                },
                {
                  "line": {
                    "color": "black",
                    "dash": "dashdot",
                    "width": 4
                  },
                  "mode": "lines",
                  "name": "Efficient Frontier",
                  "type": "scatter",
                  "x": [
                    3.91,
                    3.91,
                    3.91,
                    3.91,
                    3.91,
                    3.91,
                    3.91,
                    3.91,
                    3.91,
                    3.91,
                    3.91,
                    3.91,
                    3.91,
                    3.91,
                    3.91,
                    3.91,
                    3.91,
                    3.91,
                    3.91,
                    3.91
                  ],
                  "y": [
                    242.76,
                    242.77,
                    242.77,
                    242.78,
                    242.79,
                    242.79,
                    242.8,
                    242.8,
                    242.81,
                    242.82,
                    242.82,
                    242.83,
                    242.84,
                    242.84,
                    242.85,
                    242.86,
                    242.86,
                    242.87,
                    242.88,
                    242.88
                  ]
                }
              ],
              "layout": {
                "height": 600,
                "legend": {
                  "bgcolor": "#e2e2e2",
                  "bordercolor": "black",
                  "borderwidth": 2,
                  "traceorder": "normal",
                  "x": 0.75,
                  "y": 0
                },
                "showlegend": true,
                "template": {
                  "data": {
                    "bar": [
                      {
                        "error_x": {
                          "color": "#2a3f5f"
                        },
                        "error_y": {
                          "color": "#2a3f5f"
                        },
                        "marker": {
                          "line": {
                            "color": "#E5ECF6",
                            "width": 0.5
                          },
                          "pattern": {
                            "fillmode": "overlay",
                            "size": 10,
                            "solidity": 0.2
                          }
                        },
                        "type": "bar"
                      }
                    ],
                    "barpolar": [
                      {
                        "marker": {
                          "line": {
                            "color": "#E5ECF6",
                            "width": 0.5
                          },
                          "pattern": {
                            "fillmode": "overlay",
                            "size": 10,
                            "solidity": 0.2
                          }
                        },
                        "type": "barpolar"
                      }
                    ],
                    "carpet": [
                      {
                        "aaxis": {
                          "endlinecolor": "#2a3f5f",
                          "gridcolor": "white",
                          "linecolor": "white",
                          "minorgridcolor": "white",
                          "startlinecolor": "#2a3f5f"
                        },
                        "baxis": {
                          "endlinecolor": "#2a3f5f",
                          "gridcolor": "white",
                          "linecolor": "white",
                          "minorgridcolor": "white",
                          "startlinecolor": "#2a3f5f"
                        },
                        "type": "carpet"
                      }
                    ],
                    "choropleth": [
                      {
                        "colorbar": {
                          "outlinewidth": 0,
                          "ticks": ""
                        },
                        "type": "choropleth"
                      }
                    ],
                    "contour": [
                      {
                        "colorbar": {
                          "outlinewidth": 0,
                          "ticks": ""
                        },
                        "colorscale": [
                          [
                            0,
                            "#0d0887"
                          ],
                          [
                            0.1111111111111111,
                            "#46039f"
                          ],
                          [
                            0.2222222222222222,
                            "#7201a8"
                          ],
                          [
                            0.3333333333333333,
                            "#9c179e"
                          ],
                          [
                            0.4444444444444444,
                            "#bd3786"
                          ],
                          [
                            0.5555555555555556,
                            "#d8576b"
                          ],
                          [
                            0.6666666666666666,
                            "#ed7953"
                          ],
                          [
                            0.7777777777777778,
                            "#fb9f3a"
                          ],
                          [
                            0.8888888888888888,
                            "#fdca26"
                          ],
                          [
                            1,
                            "#f0f921"
                          ]
                        ],
                        "type": "contour"
                      }
                    ],
                    "contourcarpet": [
                      {
                        "colorbar": {
                          "outlinewidth": 0,
                          "ticks": ""
                        },
                        "type": "contourcarpet"
                      }
                    ],
                    "heatmap": [
                      {
                        "colorbar": {
                          "outlinewidth": 0,
                          "ticks": ""
                        },
                        "colorscale": [
                          [
                            0,
                            "#0d0887"
                          ],
                          [
                            0.1111111111111111,
                            "#46039f"
                          ],
                          [
                            0.2222222222222222,
                            "#7201a8"
                          ],
                          [
                            0.3333333333333333,
                            "#9c179e"
                          ],
                          [
                            0.4444444444444444,
                            "#bd3786"
                          ],
                          [
                            0.5555555555555556,
                            "#d8576b"
                          ],
                          [
                            0.6666666666666666,
                            "#ed7953"
                          ],
                          [
                            0.7777777777777778,
                            "#fb9f3a"
                          ],
                          [
                            0.8888888888888888,
                            "#fdca26"
                          ],
                          [
                            1,
                            "#f0f921"
                          ]
                        ],
                        "type": "heatmap"
                      }
                    ],
                    "heatmapgl": [
                      {
                        "colorbar": {
                          "outlinewidth": 0,
                          "ticks": ""
                        },
                        "colorscale": [
                          [
                            0,
                            "#0d0887"
                          ],
                          [
                            0.1111111111111111,
                            "#46039f"
                          ],
                          [
                            0.2222222222222222,
                            "#7201a8"
                          ],
                          [
                            0.3333333333333333,
                            "#9c179e"
                          ],
                          [
                            0.4444444444444444,
                            "#bd3786"
                          ],
                          [
                            0.5555555555555556,
                            "#d8576b"
                          ],
                          [
                            0.6666666666666666,
                            "#ed7953"
                          ],
                          [
                            0.7777777777777778,
                            "#fb9f3a"
                          ],
                          [
                            0.8888888888888888,
                            "#fdca26"
                          ],
                          [
                            1,
                            "#f0f921"
                          ]
                        ],
                        "type": "heatmapgl"
                      }
                    ],
                    "histogram": [
                      {
                        "marker": {
                          "pattern": {
                            "fillmode": "overlay",
                            "size": 10,
                            "solidity": 0.2
                          }
                        },
                        "type": "histogram"
                      }
                    ],
                    "histogram2d": [
                      {
                        "colorbar": {
                          "outlinewidth": 0,
                          "ticks": ""
                        },
                        "colorscale": [
                          [
                            0,
                            "#0d0887"
                          ],
                          [
                            0.1111111111111111,
                            "#46039f"
                          ],
                          [
                            0.2222222222222222,
                            "#7201a8"
                          ],
                          [
                            0.3333333333333333,
                            "#9c179e"
                          ],
                          [
                            0.4444444444444444,
                            "#bd3786"
                          ],
                          [
                            0.5555555555555556,
                            "#d8576b"
                          ],
                          [
                            0.6666666666666666,
                            "#ed7953"
                          ],
                          [
                            0.7777777777777778,
                            "#fb9f3a"
                          ],
                          [
                            0.8888888888888888,
                            "#fdca26"
                          ],
                          [
                            1,
                            "#f0f921"
                          ]
                        ],
                        "type": "histogram2d"
                      }
                    ],
                    "histogram2dcontour": [
                      {
                        "colorbar": {
                          "outlinewidth": 0,
                          "ticks": ""
                        },
                        "colorscale": [
                          [
                            0,
                            "#0d0887"
                          ],
                          [
                            0.1111111111111111,
                            "#46039f"
                          ],
                          [
                            0.2222222222222222,
                            "#7201a8"
                          ],
                          [
                            0.3333333333333333,
                            "#9c179e"
                          ],
                          [
                            0.4444444444444444,
                            "#bd3786"
                          ],
                          [
                            0.5555555555555556,
                            "#d8576b"
                          ],
                          [
                            0.6666666666666666,
                            "#ed7953"
                          ],
                          [
                            0.7777777777777778,
                            "#fb9f3a"
                          ],
                          [
                            0.8888888888888888,
                            "#fdca26"
                          ],
                          [
                            1,
                            "#f0f921"
                          ]
                        ],
                        "type": "histogram2dcontour"
                      }
                    ],
                    "mesh3d": [
                      {
                        "colorbar": {
                          "outlinewidth": 0,
                          "ticks": ""
                        },
                        "type": "mesh3d"
                      }
                    ],
                    "parcoords": [
                      {
                        "line": {
                          "colorbar": {
                            "outlinewidth": 0,
                            "ticks": ""
                          }
                        },
                        "type": "parcoords"
                      }
                    ],
                    "pie": [
                      {
                        "automargin": true,
                        "type": "pie"
                      }
                    ],
                    "scatter": [
                      {
                        "fillpattern": {
                          "fillmode": "overlay",
                          "size": 10,
                          "solidity": 0.2
                        },
                        "type": "scatter"
                      }
                    ],
                    "scatter3d": [
                      {
                        "line": {
                          "colorbar": {
                            "outlinewidth": 0,
                            "ticks": ""
                          }
                        },
                        "marker": {
                          "colorbar": {
                            "outlinewidth": 0,
                            "ticks": ""
                          }
                        },
                        "type": "scatter3d"
                      }
                    ],
                    "scattercarpet": [
                      {
                        "marker": {
                          "colorbar": {
                            "outlinewidth": 0,
                            "ticks": ""
                          }
                        },
                        "type": "scattercarpet"
                      }
                    ],
                    "scattergeo": [
                      {
                        "marker": {
                          "colorbar": {
                            "outlinewidth": 0,
                            "ticks": ""
                          }
                        },
                        "type": "scattergeo"
                      }
                    ],
                    "scattergl": [
                      {
                        "marker": {
                          "colorbar": {
                            "outlinewidth": 0,
                            "ticks": ""
                          }
                        },
                        "type": "scattergl"
                      }
                    ],
                    "scattermapbox": [
                      {
                        "marker": {
                          "colorbar": {
                            "outlinewidth": 0,
                            "ticks": ""
                          }
                        },
                        "type": "scattermapbox"
                      }
                    ],
                    "scatterpolar": [
                      {
                        "marker": {
                          "colorbar": {
                            "outlinewidth": 0,
                            "ticks": ""
                          }
                        },
                        "type": "scatterpolar"
                      }
                    ],
                    "scatterpolargl": [
                      {
                        "marker": {
                          "colorbar": {
                            "outlinewidth": 0,
                            "ticks": ""
                          }
                        },
                        "type": "scatterpolargl"
                      }
                    ],
                    "scatterternary": [
                      {
                        "marker": {
                          "colorbar": {
                            "outlinewidth": 0,
                            "ticks": ""
                          }
                        },
                        "type": "scatterternary"
                      }
                    ],
                    "surface": [
                      {
                        "colorbar": {
                          "outlinewidth": 0,
                          "ticks": ""
                        },
                        "colorscale": [
                          [
                            0,
                            "#0d0887"
                          ],
                          [
                            0.1111111111111111,
                            "#46039f"
                          ],
                          [
                            0.2222222222222222,
                            "#7201a8"
                          ],
                          [
                            0.3333333333333333,
                            "#9c179e"
                          ],
                          [
                            0.4444444444444444,
                            "#bd3786"
                          ],
                          [
                            0.5555555555555556,
                            "#d8576b"
                          ],
                          [
                            0.6666666666666666,
                            "#ed7953"
                          ],
                          [
                            0.7777777777777778,
                            "#fb9f3a"
                          ],
                          [
                            0.8888888888888888,
                            "#fdca26"
                          ],
                          [
                            1,
                            "#f0f921"
                          ]
                        ],
                        "type": "surface"
                      }
                    ],
                    "table": [
                      {
                        "cells": {
                          "fill": {
                            "color": "#EBF0F8"
                          },
                          "line": {
                            "color": "white"
                          }
                        },
                        "header": {
                          "fill": {
                            "color": "#C8D4E3"
                          },
                          "line": {
                            "color": "white"
                          }
                        },
                        "type": "table"
                      }
                    ]
                  },
                  "layout": {
                    "annotationdefaults": {
                      "arrowcolor": "#2a3f5f",
                      "arrowhead": 0,
                      "arrowwidth": 1
                    },
                    "autotypenumbers": "strict",
                    "coloraxis": {
                      "colorbar": {
                        "outlinewidth": 0,
                        "ticks": ""
                      }
                    },
                    "colorscale": {
                      "diverging": [
                        [
                          0,
                          "#8e0152"
                        ],
                        [
                          0.1,
                          "#c51b7d"
                        ],
                        [
                          0.2,
                          "#de77ae"
                        ],
                        [
                          0.3,
                          "#f1b6da"
                        ],
                        [
                          0.4,
                          "#fde0ef"
                        ],
                        [
                          0.5,
                          "#f7f7f7"
                        ],
                        [
                          0.6,
                          "#e6f5d0"
                        ],
                        [
                          0.7,
                          "#b8e186"
                        ],
                        [
                          0.8,
                          "#7fbc41"
                        ],
                        [
                          0.9,
                          "#4d9221"
                        ],
                        [
                          1,
                          "#276419"
                        ]
                      ],
                      "sequential": [
                        [
                          0,
                          "#0d0887"
                        ],
                        [
                          0.1111111111111111,
                          "#46039f"
                        ],
                        [
                          0.2222222222222222,
                          "#7201a8"
                        ],
                        [
                          0.3333333333333333,
                          "#9c179e"
                        ],
                        [
                          0.4444444444444444,
                          "#bd3786"
                        ],
                        [
                          0.5555555555555556,
                          "#d8576b"
                        ],
                        [
                          0.6666666666666666,
                          "#ed7953"
                        ],
                        [
                          0.7777777777777778,
                          "#fb9f3a"
                        ],
                        [
                          0.8888888888888888,
                          "#fdca26"
                        ],
                        [
                          1,
                          "#f0f921"
                        ]
                      ],
                      "sequentialminus": [
                        [
                          0,
                          "#0d0887"
                        ],
                        [
                          0.1111111111111111,
                          "#46039f"
                        ],
                        [
                          0.2222222222222222,
                          "#7201a8"
                        ],
                        [
                          0.3333333333333333,
                          "#9c179e"
                        ],
                        [
                          0.4444444444444444,
                          "#bd3786"
                        ],
                        [
                          0.5555555555555556,
                          "#d8576b"
                        ],
                        [
                          0.6666666666666666,
                          "#ed7953"
                        ],
                        [
                          0.7777777777777778,
                          "#fb9f3a"
                        ],
                        [
                          0.8888888888888888,
                          "#fdca26"
                        ],
                        [
                          1,
                          "#f0f921"
                        ]
                      ]
                    },
                    "colorway": [
                      "#636efa",
                      "#EF553B",
                      "#00cc96",
                      "#ab63fa",
                      "#FFA15A",
                      "#19d3f3",
                      "#FF6692",
                      "#B6E880",
                      "#FF97FF",
                      "#FECB52"
                    ],
                    "font": {
                      "color": "#2a3f5f"
                    },
                    "geo": {
                      "bgcolor": "white",
                      "lakecolor": "white",
                      "landcolor": "#E5ECF6",
                      "showlakes": true,
                      "showland": true,
                      "subunitcolor": "white"
                    },
                    "hoverlabel": {
                      "align": "left"
                    },
                    "hovermode": "closest",
                    "mapbox": {
                      "style": "light"
                    },
                    "paper_bgcolor": "white",
                    "plot_bgcolor": "#E5ECF6",
                    "polar": {
                      "angularaxis": {
                        "gridcolor": "white",
                        "linecolor": "white",
                        "ticks": ""
                      },
                      "bgcolor": "#E5ECF6",
                      "radialaxis": {
                        "gridcolor": "white",
                        "linecolor": "white",
                        "ticks": ""
                      }
                    },
                    "scene": {
                      "xaxis": {
                        "backgroundcolor": "#E5ECF6",
                        "gridcolor": "white",
                        "gridwidth": 2,
                        "linecolor": "white",
                        "showbackground": true,
                        "ticks": "",
                        "zerolinecolor": "white"
                      },
                      "yaxis": {
                        "backgroundcolor": "#E5ECF6",
                        "gridcolor": "white",
                        "gridwidth": 2,
                        "linecolor": "white",
                        "showbackground": true,
                        "ticks": "",
                        "zerolinecolor": "white"
                      },
                      "zaxis": {
                        "backgroundcolor": "#E5ECF6",
                        "gridcolor": "white",
                        "gridwidth": 2,
                        "linecolor": "white",
                        "showbackground": true,
                        "ticks": "",
                        "zerolinecolor": "white"
                      }
                    },
                    "shapedefaults": {
                      "line": {
                        "color": "#2a3f5f"
                      }
                    },
                    "ternary": {
                      "aaxis": {
                        "gridcolor": "white",
                        "linecolor": "white",
                        "ticks": ""
                      },
                      "baxis": {
                        "gridcolor": "white",
                        "linecolor": "white",
                        "ticks": ""
                      },
                      "bgcolor": "#E5ECF6",
                      "caxis": {
                        "gridcolor": "white",
                        "linecolor": "white",
                        "ticks": ""
                      }
                    },
                    "title": {
                      "x": 0.05
                    },
                    "xaxis": {
                      "automargin": true,
                      "gridcolor": "white",
                      "linecolor": "white",
                      "ticks": "",
                      "title": {
                        "standoff": 15
                      },
                      "zerolinecolor": "white",
                      "zerolinewidth": 2
                    },
                    "yaxis": {
                      "automargin": true,
                      "gridcolor": "white",
                      "linecolor": "white",
                      "ticks": "",
                      "title": {
                        "standoff": 15
                      },
                      "zerolinecolor": "white",
                      "zerolinewidth": 2
                    }
                  }
                },
                "title": {
                  "text": "Portfolio optitmisation"
                },
                "width": 800,
                "xaxis": {
                  "title": {
                    "text": "Annualised Volatility (%)"
                  }
                },
                "yaxis": {
                  "title": {
                    "text": "Annualised Return (%)"
                  }
                }
              }
            }
          },
          "metadata": {},
          "output_type": "display_data"
        }
      ],
      "source": [
        "efficient_frontier = EfficientFrontier(normalized, 0.05)\n",
        "efficient_frontier.calc()"
      ]
    }
  ],
  "metadata": {
    "colab": {
      "collapsed_sections": [],
      "name": "Trabalho_1.ipynb",
      "provenance": []
    },
    "kernelspec": {
      "display_name": "Python 3",
      "name": "python3"
    },
    "language_info": {
      "name": "python"
    }
  },
  "nbformat": 4,
  "nbformat_minor": 0
}
