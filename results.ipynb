{
 "cells": [
  {
   "cell_type": "code",
   "execution_count": 1,
   "metadata": {},
   "outputs": [],
   "source": [
    "import pandas as pd\n",
    "from methods.preprocess import Preprocess\n"
   ]
  },
  {
   "cell_type": "code",
   "execution_count": 2,
   "metadata": {},
   "outputs": [
    {
     "data": {
      "text/html": [
       "<div>\n",
       "<style scoped>\n",
       "    .dataframe tbody tr th:only-of-type {\n",
       "        vertical-align: middle;\n",
       "    }\n",
       "\n",
       "    .dataframe tbody tr th {\n",
       "        vertical-align: top;\n",
       "    }\n",
       "\n",
       "    .dataframe thead th {\n",
       "        text-align: right;\n",
       "    }\n",
       "</style>\n",
       "<table border=\"1\" class=\"dataframe\">\n",
       "  <thead>\n",
       "    <tr style=\"text-align: right;\">\n",
       "      <th></th>\n",
       "      <th>y</th>\n",
       "      <th>y_pred</th>\n",
       "      <th>y_label</th>\n",
       "      <th>file</th>\n",
       "      <th>model</th>\n",
       "    </tr>\n",
       "  </thead>\n",
       "  <tbody>\n",
       "    <tr>\n",
       "      <th>0</th>\n",
       "      <td>1</td>\n",
       "      <td>0</td>\n",
       "      <td>202008</td>\n",
       "      <td>Antigua and Barbuda.csv</td>\n",
       "      <td>ARIMA_2_1</td>\n",
       "    </tr>\n",
       "    <tr>\n",
       "      <th>1</th>\n",
       "      <td>1</td>\n",
       "      <td>1</td>\n",
       "      <td>202009</td>\n",
       "      <td>Antigua and Barbuda.csv</td>\n",
       "      <td>ARIMA_2_1</td>\n",
       "    </tr>\n",
       "    <tr>\n",
       "      <th>2</th>\n",
       "      <td>1</td>\n",
       "      <td>0</td>\n",
       "      <td>202010</td>\n",
       "      <td>Antigua and Barbuda.csv</td>\n",
       "      <td>ARIMA_2_1</td>\n",
       "    </tr>\n",
       "    <tr>\n",
       "      <th>3</th>\n",
       "      <td>0</td>\n",
       "      <td>1</td>\n",
       "      <td>202102</td>\n",
       "      <td>Antigua and Barbuda.csv</td>\n",
       "      <td>ARIMA_2_1</td>\n",
       "    </tr>\n",
       "    <tr>\n",
       "      <th>4</th>\n",
       "      <td>1</td>\n",
       "      <td>0</td>\n",
       "      <td>202103</td>\n",
       "      <td>Antigua and Barbuda.csv</td>\n",
       "      <td>ARIMA_2_1</td>\n",
       "    </tr>\n",
       "  </tbody>\n",
       "</table>\n",
       "</div>"
      ],
      "text/plain": [
       "   y  y_pred  y_label                     file      model\n",
       "0  1       0   202008  Antigua and Barbuda.csv  ARIMA_2_1\n",
       "1  1       1   202009  Antigua and Barbuda.csv  ARIMA_2_1\n",
       "2  1       0   202010  Antigua and Barbuda.csv  ARIMA_2_1\n",
       "3  0       1   202102  Antigua and Barbuda.csv  ARIMA_2_1\n",
       "4  1       0   202103  Antigua and Barbuda.csv  ARIMA_2_1"
      ]
     },
     "execution_count": 2,
     "metadata": {},
     "output_type": "execute_result"
    }
   ],
   "source": [
    "preprocess = Preprocess()\n",
    "\n",
    "df = pd.read_csv(\"results/202204211418.csv\")\n",
    "df.head()"
   ]
  },
  {
   "cell_type": "code",
   "execution_count": 7,
   "metadata": {},
   "outputs": [
    {
     "name": "stdout",
     "output_type": "stream",
     "text": [
      "[('MLP_100_3_200', 1.0), ('MLP_200_2_50', 1.0), ('MLP_200_2_100', 1.0), ('MLP_200_3_50', 1.0), ('MLP_200_3_200', 1.0), ('MLP_100_3_100', 0.984375), ('MLP_200_2_200', 0.984375), ('MLP_200_3_100', 0.984375), ('MLP_100_2_200', 0.96875), ('LSTM_200_2_200', 0.9666666666666667), ('LSTM_200_3_200', 0.9666666666666667), ('MLP_100_3_50', 0.9375), ('MLP_50_3_100', 0.921875), ('MLP_200_1_100', 0.9010416666666667), ('MLP_200_1_200', 0.9010416666666667), ('LSTM_200_3_50', 0.8833333333333333), ('MLP_50_2_50', 0.875), ('MLP_100_1_50', 0.875), ('MLP_100_1_100', 0.875), ('MLP_50_2_200', 0.8697916666666667), ('MLP_100_2_100', 0.8697916666666667), ('LSTM_100_3_50', 0.8666666666666667), ('MLP_50_1_100', 0.859375), ('MLP_50_1_200', 0.859375), ('MLP_50_2_100', 0.859375), ('MLP_50_3_50', 0.859375), ('MLP_50_3_200', 0.8541666666666667), ('MLP_200_1_50', 0.8541666666666667), ('LSTM_100_3_100', 0.85), ('LSTM_200_2_50', 0.85), ('MLP_50_1_50', 0.84375), ('LSTM_100_2_50', 0.84375), ('LSTM_100_2_100', 0.84375), ('MLP_100_2_50', 0.8385416666666667), ('LSTM_100_3_200', 0.8333333333333334), ('LSTM_200_1_50', 0.8333333333333334), ('LSTM_200_1_100', 0.8333333333333334), ('LSTM_100_1_200', 0.828125), ('LSTM_50_3_200', 0.8229166666666667), ('LSTM_100_2_200', 0.8166666666666667), ('LSTM_100_1_100', 0.8125), ('MLP_100_1_200', 0.8072916666666667), ('LSTM_200_3_100', 0.8), ('KNN_8_1', 0.7916666666666666), ('LSTM_200_1_200', 0.7833333333333333), ('LSTM_50_2_50', 0.7760416666666667), ('LSTM_50_2_200', 0.7604166666666667), ('KNN_2_1', 0.75), ('KNN_2_2', 0.75), ('KNN_2_3', 0.75), ('KNN_2_4', 0.75), ('LSTM_50_1_100', 0.7447916666666667), ('LSTM_50_1_200', 0.7447916666666667), ('LSTM_50_3_100', 0.7447916666666667), ('LSTM_100_1_50', 0.7447916666666667), ('LSTM_50_2_100', 0.7239583333333333), ('LSTM_200_2_100', 0.7166666666666668), ('LSTM_50_3_50', 0.7135416666666667), ('KNN_2_5', 0.6666666666666666), ('LSTM_50_1_50', 0.6614583333333334), ('KNN_4_2', 0.640625), ('KNN_4_3', 0.640625), ('KNN_4_4', 0.640625), ('KNN_4_5', 0.640625), ('KNN_4_1', 0.625), ('KNN_8_2', 0.59375), ('KNN_8_3', 0.59375), ('KNN_8_4', 0.59375), ('KNN_8_5', 0.59375), ('ARIMA_2_3', 0.4578804347826087), ('ARIMA_4_3', 0.4578804347826087), ('ARIMA_8_3', 0.447463768115942), ('ARIMA_2_1', 0.4248188405797102), ('ARIMA_2_2', 0.40307971014492755), ('ARIMA_8_2', 0.38315217391304346), ('ARIMA_4_2', 0.381340579710145), ('ARIMA_4_1', 0.3623188405797102), ('ARIMA_8_1', 0.29710144927536236)]\n"
     ]
    }
   ],
   "source": [
    "models = list(df.model.unique())\n",
    "accuracies = {}\n",
    "\n",
    "for model in models:\n",
    "\tdf_model = df[df[\"model\"] == model]\n",
    "\ty = df_model[\"y\"].tolist()\n",
    "\ty_pred = df_model[\"y_pred\"].tolist()\n",
    "\n",
    "\tmetrics = preprocess.evaluate(y, y_pred)\n",
    "\taccuracies[model] = metrics[\"roc\"]\n",
    "\n",
    "\n",
    "print(sorted(accuracies.items(), key=lambda x: x[1], reverse=True))\n",
    "# naive = df[df[\"model\"] == \"Naive\"]\n",
    "# y = naive[\"y\"].tolist()\n",
    "# y_pred = naive[\"y_pred\"].tolist()\n",
    "\n",
    "# print(preprocess.evaluate(y, y_pred))"
   ]
  },
  {
   "cell_type": "code",
   "execution_count": null,
   "metadata": {},
   "outputs": [],
   "source": []
  }
 ],
 "metadata": {
  "interpreter": {
   "hash": "592a46525cd41fc2034ee9308cd602c1c2afda19be282adc91ea849179671fc9"
  },
  "kernelspec": {
   "display_name": "Python 3.9.5 ('.venv': venv)",
   "language": "python",
   "name": "python3"
  },
  "language_info": {
   "codemirror_mode": {
    "name": "ipython",
    "version": 3
   },
   "file_extension": ".py",
   "mimetype": "text/x-python",
   "name": "python",
   "nbconvert_exporter": "python",
   "pygments_lexer": "ipython3",
   "version": "3.9.5"
  },
  "orig_nbformat": 4
 },
 "nbformat": 4,
 "nbformat_minor": 2
}
