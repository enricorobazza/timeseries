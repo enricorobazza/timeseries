{
 "cells": [
  {
   "cell_type": "code",
   "execution_count": 1,
   "metadata": {},
   "outputs": [],
   "source": [
    "import pandas as pd\n",
    "from methods.preprocess import Preprocess\n"
   ]
  },
  {
   "cell_type": "code",
   "execution_count": 8,
   "metadata": {},
   "outputs": [
    {
     "data": {
      "text/html": [
       "<div>\n",
       "<style scoped>\n",
       "    .dataframe tbody tr th:only-of-type {\n",
       "        vertical-align: middle;\n",
       "    }\n",
       "\n",
       "    .dataframe tbody tr th {\n",
       "        vertical-align: top;\n",
       "    }\n",
       "\n",
       "    .dataframe thead th {\n",
       "        text-align: right;\n",
       "    }\n",
       "</style>\n",
       "<table border=\"1\" class=\"dataframe\">\n",
       "  <thead>\n",
       "    <tr style=\"text-align: right;\">\n",
       "      <th></th>\n",
       "      <th>y</th>\n",
       "      <th>y_pred</th>\n",
       "      <th>y_label</th>\n",
       "      <th>file</th>\n",
       "      <th>model</th>\n",
       "    </tr>\n",
       "  </thead>\n",
       "  <tbody>\n",
       "    <tr>\n",
       "      <th>0</th>\n",
       "      <td>1</td>\n",
       "      <td>0</td>\n",
       "      <td>202008</td>\n",
       "      <td>Antigua and Barbuda.csv</td>\n",
       "      <td>ARIMA_2_1</td>\n",
       "    </tr>\n",
       "    <tr>\n",
       "      <th>1</th>\n",
       "      <td>1</td>\n",
       "      <td>1</td>\n",
       "      <td>202009</td>\n",
       "      <td>Antigua and Barbuda.csv</td>\n",
       "      <td>ARIMA_2_1</td>\n",
       "    </tr>\n",
       "    <tr>\n",
       "      <th>2</th>\n",
       "      <td>1</td>\n",
       "      <td>0</td>\n",
       "      <td>202010</td>\n",
       "      <td>Antigua and Barbuda.csv</td>\n",
       "      <td>ARIMA_2_1</td>\n",
       "    </tr>\n",
       "    <tr>\n",
       "      <th>3</th>\n",
       "      <td>0</td>\n",
       "      <td>1</td>\n",
       "      <td>202102</td>\n",
       "      <td>Antigua and Barbuda.csv</td>\n",
       "      <td>ARIMA_2_1</td>\n",
       "    </tr>\n",
       "    <tr>\n",
       "      <th>4</th>\n",
       "      <td>1</td>\n",
       "      <td>0</td>\n",
       "      <td>202103</td>\n",
       "      <td>Antigua and Barbuda.csv</td>\n",
       "      <td>ARIMA_2_1</td>\n",
       "    </tr>\n",
       "  </tbody>\n",
       "</table>\n",
       "</div>"
      ],
      "text/plain": [
       "   y  y_pred  y_label                     file      model\n",
       "0  1       0   202008  Antigua and Barbuda.csv  ARIMA_2_1\n",
       "1  1       1   202009  Antigua and Barbuda.csv  ARIMA_2_1\n",
       "2  1       0   202010  Antigua and Barbuda.csv  ARIMA_2_1\n",
       "3  0       1   202102  Antigua and Barbuda.csv  ARIMA_2_1\n",
       "4  1       0   202103  Antigua and Barbuda.csv  ARIMA_2_1"
      ]
     },
     "execution_count": 8,
     "metadata": {},
     "output_type": "execute_result"
    }
   ],
   "source": [
    "preprocess = Preprocess()\n",
    "\n",
    "df = pd.read_csv(\"results/202204211418.csv\")\n",
    "df.head()"
   ]
  },
  {
   "cell_type": "code",
   "execution_count": 9,
   "metadata": {},
   "outputs": [
    {
     "name": "stdout",
     "output_type": "stream",
     "text": [
      "[('MLP_200_3_200', 0.9834254143646408), ('MLP_200_2_100', 0.972972972972973), ('MLP_200_2_200', 0.972972972972973), ('MLP_200_3_50', 0.972972972972973), ('MLP_200_3_100', 0.972972972972973), ('MLP_100_3_200', 0.9673913043478262), ('MLP_200_2_50', 0.9625668449197862), ('MLP_100_3_100', 0.946808510638298), ('MLP_200_1_200', 0.946808510638298), ('LSTM_200_2_200', 0.9361702127659575), ('LSTM_200_3_200', 0.9319371727748692), ('MLP_100_2_200', 0.931216931216931), ('MLP_200_1_100', 0.9263157894736842), ('MLP_100_2_100', 0.9015544041450777), ('LSTM_200_3_100', 0.8979591836734695), ('MLP_50_3_200', 0.8529411764705882), ('MLP_100_3_50', 0.8514851485148515), ('LSTM_200_2_100', 0.8512820512820511), ('MLP_200_1_50', 0.8374384236453202), ('MLP_100_2_50', 0.8275862068965518), ('MLP_50_2_200', 0.8241206030150754), ('LSTM_200_3_50', 0.8118811881188118), ('MLP_50_3_100', 0.8000000000000002), ('LSTM_200_1_200', 0.7980295566502463), ('MLP_100_1_200', 0.7960199004975124), ('LSTM_100_2_200', 0.7596153846153846), ('MLP_100_1_100', 0.7547169811320755), ('MLP_50_3_50', 0.75), ('MLP_100_1_50', 0.7452830188679246), ('MLP_50_2_100', 0.7417840375586856), ('LSTM_200_2_50', 0.7383177570093457), ('MLP_50_2_50', 0.728110599078341), ('LSTM_200_1_100', 0.7211538461538461), ('KNN_2_1', 0.7092198581560284), ('MLP_50_1_100', 0.704225352112676), ('MLP_50_1_200', 0.7009345794392523), ('MLP_50_1_50', 0.6915887850467289), ('LSTM_200_1_50', 0.6912442396313363), ('KNN_2_2', 0.6906474820143885), ('KNN_2_4', 0.6906474820143885), ('KNN_2_5', 0.6906474820143885), ('LSTM_100_2_100', 0.6826923076923076), ('KNN_2_3', 0.6811594202898552), ('LSTM_100_1_200', 0.676056338028169), ('LSTM_100_1_100', 0.6635071090047393), ('LSTM_100_2_50', 0.6635071090047393), ('LSTM_50_1_200', 0.6605504587155964), ('LSTM_100_3_200', 0.659217877094972), ('LSTM_100_1_50', 0.6334841628959276), ('LSTM_50_1_100', 0.6311111111111111), ('LSTM_50_2_200', 0.6178010471204188), ('LSTM_50_1_50', 0.6126126126126126), ('LSTM_50_2_50', 0.6122448979591837), ('LSTM_50_2_100', 0.6020408163265305), ('KNN_4_5', 0.5925925925925927), ('KNN_4_3', 0.5863874345549739), ('KNN_4_4', 0.5863874345549739), ('LSTM_100_3_100', 0.5824175824175823), ('KNN_8_1', 0.5784313725490197), ('KNN_4_2', 0.5759162303664922), ('KNN_8_5', 0.5658536585365854), ('KNN_8_4', 0.5588235294117647), ('KNN_8_2', 0.5517241379310345), ('KNN_8_3', 0.5517241379310345), ('LSTM_100_3_50', 0.5473684210526315), ('KNN_4_1', 0.5454545454545454), ('LSTM_50_3_50', 0.4421052631578947), ('LSTM_50_3_100', 0.4318181818181818), ('LSTM_50_3_200', 0.4186046511627907), ('ARIMA_4_3', 0.3286573146292585), ('ARIMA_8_3', 0.2874743326488707), ('ARIMA_8_2', 0.280561122244489), ('ARIMA_2_2', 0.27615062761506276), ('ARIMA_2_3', 0.26439232409381663), ('ARIMA_4_2', 0.2612419700214133), ('ARIMA_2_1', 0.24634655532359082), ('ARIMA_4_1', 0.2275449101796407), ('ARIMA_8_1', 0.22626262626262628)]\n"
     ]
    }
   ],
   "source": [
    "models = list(df.model.unique())\n",
    "accuracies = {}\n",
    "\n",
    "for model in models:\n",
    "\tdf_model = df[df[\"model\"] == model]\n",
    "\ty = df_model[\"y\"].tolist()\n",
    "\ty_pred = df_model[\"y_pred\"].tolist()\n",
    "\n",
    "\tmetrics = preprocess.evaluate(y, y_pred)\n",
    "\taccuracies[model] = metrics[\"fmeasure\"]\n",
    "\n",
    "\n",
    "print(sorted(accuracies.items(), key=lambda x: x[1], reverse=True))\n",
    "# naive = df[df[\"model\"] == \"Naive\"]\n",
    "# y = naive[\"y\"].tolist()\n",
    "# y_pred = naive[\"y_pred\"].tolist()\n",
    "\n",
    "# print(preprocess.evaluate(y, y_pred))"
   ]
  },
  {
   "cell_type": "code",
   "execution_count": null,
   "metadata": {},
   "outputs": [],
   "source": []
  }
 ],
 "metadata": {
  "interpreter": {
   "hash": "592a46525cd41fc2034ee9308cd602c1c2afda19be282adc91ea849179671fc9"
  },
  "kernelspec": {
   "display_name": "Python 3.9.5 ('.venv': venv)",
   "language": "python",
   "name": "python3"
  },
  "language_info": {
   "codemirror_mode": {
    "name": "ipython",
    "version": 3
   },
   "file_extension": ".py",
   "mimetype": "text/x-python",
   "name": "python",
   "nbconvert_exporter": "python",
   "pygments_lexer": "ipython3",
   "version": "3.9.5"
  },
  "orig_nbformat": 4
 },
 "nbformat": 4,
 "nbformat_minor": 2
}
