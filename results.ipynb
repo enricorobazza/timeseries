{
 "cells": [
  {
   "cell_type": "code",
   "execution_count": 1,
   "metadata": {},
   "outputs": [],
   "source": [
    "import pandas as pd\n",
    "from methods.preprocess import Preprocess\n"
   ]
  },
  {
   "cell_type": "code",
   "execution_count": 3,
   "metadata": {},
   "outputs": [
    {
     "data": {
      "text/html": [
       "<div>\n",
       "<style scoped>\n",
       "    .dataframe tbody tr th:only-of-type {\n",
       "        vertical-align: middle;\n",
       "    }\n",
       "\n",
       "    .dataframe tbody tr th {\n",
       "        vertical-align: top;\n",
       "    }\n",
       "\n",
       "    .dataframe thead th {\n",
       "        text-align: right;\n",
       "    }\n",
       "</style>\n",
       "<table border=\"1\" class=\"dataframe\">\n",
       "  <thead>\n",
       "    <tr style=\"text-align: right;\">\n",
       "      <th></th>\n",
       "      <th>y</th>\n",
       "      <th>y_pred</th>\n",
       "      <th>y_label</th>\n",
       "      <th>file</th>\n",
       "      <th>model</th>\n",
       "    </tr>\n",
       "  </thead>\n",
       "  <tbody>\n",
       "    <tr>\n",
       "      <th>0</th>\n",
       "      <td>1</td>\n",
       "      <td>0</td>\n",
       "      <td>202008</td>\n",
       "      <td>Antigua and Barbuda.csv</td>\n",
       "      <td>ARIMA_2_1</td>\n",
       "    </tr>\n",
       "    <tr>\n",
       "      <th>1</th>\n",
       "      <td>1</td>\n",
       "      <td>1</td>\n",
       "      <td>202009</td>\n",
       "      <td>Antigua and Barbuda.csv</td>\n",
       "      <td>ARIMA_2_1</td>\n",
       "    </tr>\n",
       "    <tr>\n",
       "      <th>2</th>\n",
       "      <td>1</td>\n",
       "      <td>0</td>\n",
       "      <td>202010</td>\n",
       "      <td>Antigua and Barbuda.csv</td>\n",
       "      <td>ARIMA_2_1</td>\n",
       "    </tr>\n",
       "    <tr>\n",
       "      <th>3</th>\n",
       "      <td>0</td>\n",
       "      <td>1</td>\n",
       "      <td>202102</td>\n",
       "      <td>Antigua and Barbuda.csv</td>\n",
       "      <td>ARIMA_2_1</td>\n",
       "    </tr>\n",
       "    <tr>\n",
       "      <th>4</th>\n",
       "      <td>1</td>\n",
       "      <td>0</td>\n",
       "      <td>202103</td>\n",
       "      <td>Antigua and Barbuda.csv</td>\n",
       "      <td>ARIMA_2_1</td>\n",
       "    </tr>\n",
       "  </tbody>\n",
       "</table>\n",
       "</div>"
      ],
      "text/plain": [
       "   y  y_pred  y_label                     file      model\n",
       "0  1       0   202008  Antigua and Barbuda.csv  ARIMA_2_1\n",
       "1  1       1   202009  Antigua and Barbuda.csv  ARIMA_2_1\n",
       "2  1       0   202010  Antigua and Barbuda.csv  ARIMA_2_1\n",
       "3  0       1   202102  Antigua and Barbuda.csv  ARIMA_2_1\n",
       "4  1       0   202103  Antigua and Barbuda.csv  ARIMA_2_1"
      ]
     },
     "execution_count": 3,
     "metadata": {},
     "output_type": "execute_result"
    }
   ],
   "source": [
    "preprocess = Preprocess()\n",
    "\n",
    "df = pd.read_csv(\"results/202204211418.csv\")\n",
    "df.head()"
   ]
  },
  {
   "cell_type": "code",
   "execution_count": 6,
   "metadata": {},
   "outputs": [
    {
     "name": "stdout",
     "output_type": "stream",
     "text": [
      "[('MLP_200_3_50', 0.9828571428571428), ('MLP_200_3_200', 0.9826589595375722), ('MLP_200_2_100', 0.9772727272727273), ('MLP_200_3_100', 0.9772727272727273), ('MLP_200_2_200', 0.9717514124293786), ('MLP_200_2_50', 0.9662921348314606), ('MLP_100_3_200', 0.9659090909090908), ('MLP_200_1_200', 0.9550561797752809), ('MLP_100_3_100', 0.9444444444444444), ('MLP_100_2_200', 0.9333333333333332), ('MLP_200_1_100', 0.9333333333333332), ('LSTM_200_2_200', 0.9333333333333332), ('LSTM_200_3_200', 0.9289617486338797), ('MLP_100_2_100', 0.9120879120879122), ('LSTM_200_3_100', 0.8983957219251336), ('MLP_50_3_200', 0.8586387434554973), ('MLP_100_3_50', 0.8541666666666667), ('LSTM_200_2_100', 0.8494623655913979), ('MLP_200_1_50', 0.8393782383419688), ('MLP_100_2_50', 0.8350515463917527), ('MLP_50_2_200', 0.823529411764706), ('LSTM_200_3_50', 0.8124999999999999), ('MLP_50_3_100', 0.8020833333333334), ('MLP_100_1_200', 0.8), ('LSTM_200_1_200', 0.7979274611398963), ('LSTM_100_2_200', 0.7614213197969543), ('MLP_100_1_100', 0.7599999999999999), ('MLP_50_3_50', 0.7487684729064039), ('MLP_100_1_50', 0.7437185929648241), ('MLP_50_2_100', 0.74), ('LSTM_200_2_50', 0.7389162561576355), ('MLP_50_2_50', 0.729064039408867), ('LSTM_200_1_100', 0.7244897959183674), ('KNN_2_1', 0.706766917293233), ('MLP_50_1_100', 0.7), ('MLP_50_1_200', 0.6965174129353234), ('LSTM_200_1_50', 0.6960784313725491), ('KNN_2_2', 0.6870229007633588), ('KNN_2_4', 0.6870229007633588), ('KNN_2_5', 0.6870229007633588), ('MLP_50_1_50', 0.6865671641791045), ('LSTM_100_2_100', 0.6802030456852792), ('LSTM_100_1_200', 0.6799999999999999), ('KNN_2_3', 0.676923076923077), ('LSTM_100_1_100', 0.6633165829145728), ('LSTM_100_2_50', 0.6633165829145728), ('LSTM_50_1_200', 0.6601941747572816), ('LSTM_100_3_200', 0.6589595375722542), ('LSTM_100_1_50', 0.6346153846153847), ('LSTM_50_1_100', 0.6320754716981131), ('LSTM_50_1_50', 0.6220095693779905), ('LSTM_50_2_200', 0.6195652173913043), ('LSTM_50_2_50', 0.6170212765957446), ('LSTM_50_2_100', 0.6063829787234042), ('KNN_4_5', 0.5888888888888889), ('KNN_4_3', 0.5824175824175825), ('KNN_4_4', 0.5824175824175825), ('KNN_8_1', 0.5803108808290156), ('LSTM_100_3_100', 0.5795454545454546), ('KNN_4_2', 0.5714285714285714), ('KNN_8_5', 0.5670103092783505), ('KNN_8_4', 0.5595854922279792), ('LSTM_100_3_50', 0.5573770491803279), ('KNN_8_2', 0.5520833333333334), ('KNN_8_3', 0.5520833333333334), ('KNN_4_1', 0.5423728813559322), ('LSTM_50_3_50', 0.45161290322580644), ('LSTM_50_3_100', 0.4418604651162791), ('LSTM_50_3_200', 0.4285714285714286), ('ARIMA_4_3', 0.32051282051282054), ('ARIMA_8_2', 0.28632478632478636), ('ARIMA_8_3', 0.2807017543859649), ('ARIMA_2_2', 0.27814569536423844), ('ARIMA_4_2', 0.2636363636363636), ('ARIMA_2_3', 0.25968109339407747), ('ARIMA_2_1', 0.24833702882483374), ('ARIMA_4_1', 0.23578947368421055), ('ARIMA_8_1', 0.22413793103448276)]\n"
     ]
    }
   ],
   "source": [
    "models = list(df.model.unique())\n",
    "accuracies = {}\n",
    "\n",
    "for model in models:\n",
    "\tdf_model = df[df[\"model\"] == model]\n",
    "\ty = df_model[\"y\"].tolist()\n",
    "\ty_pred = df_model[\"y_pred\"].tolist()\n",
    "\n",
    "\tmetrics = preprocess.evaluate(y, y_pred)\n",
    "\taccuracies[model] = metrics[\"fmeasure\"]\n",
    "\n",
    "\n",
    "print(sorted(accuracies.items(), key=lambda x: x[1], reverse=True))\n",
    "# naive = df[df[\"model\"] == \"Naive\"]\n",
    "# y = naive[\"y\"].tolist()\n",
    "# y_pred = naive[\"y_pred\"].tolist()\n",
    "\n",
    "# print(preprocess.evaluate(y, y_pred))"
   ]
  },
  {
   "cell_type": "code",
   "execution_count": null,
   "metadata": {},
   "outputs": [],
   "source": []
  }
 ],
 "metadata": {
  "interpreter": {
   "hash": "592a46525cd41fc2034ee9308cd602c1c2afda19be282adc91ea849179671fc9"
  },
  "kernelspec": {
   "display_name": "Python 3.9.5 ('.venv': venv)",
   "language": "python",
   "name": "python3"
  },
  "language_info": {
   "codemirror_mode": {
    "name": "ipython",
    "version": 3
   },
   "file_extension": ".py",
   "mimetype": "text/x-python",
   "name": "python",
   "nbconvert_exporter": "python",
   "pygments_lexer": "ipython3",
   "version": "3.9.5"
  },
  "orig_nbformat": 4
 },
 "nbformat": 4,
 "nbformat_minor": 2
}
