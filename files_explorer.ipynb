{
 "cells": [
  {
   "cell_type": "code",
   "execution_count": 1,
   "metadata": {},
   "outputs": [],
   "source": [
    "import os\n",
    "from methods.preprocess import Preprocess\n",
    "import pandas as pd\n",
    "from methods.runner import Runner"
   ]
  },
  {
   "cell_type": "code",
   "execution_count": null,
   "metadata": {},
   "outputs": [],
   "source": [
    "min_validation_size = 8\n",
    "num_steps = 4\n",
    "validation_split = 0.05\n",
    "min_size = min_validation_size * (num_steps - 1) / validation_split\n",
    "folder = \"data/\"\n",
    "\n",
    "files = sorted(os.listdir(folder))\n",
    "\n",
    "print(\"Total files: \", len(files))\n",
    "used_files = 0\n",
    "\n",
    "preprocess = Preprocess()\n",
    "runner = Runner(None)\n",
    "merged_df = None\n",
    "\n",
    "for file in files:\n",
    "\tdf = pd.read_csv(os.path.join(folder, file), index_col='Period').sort_index()\n",
    "\n",
    "\tif df.shape[0] < min_size:\n",
    "\t\tcontinue\n",
    "\n",
    "\tdf = runner.get_df(df)\n",
    "\n",
    "\tif merged_df is None:\n",
    "\t\tmerged_df = df\n",
    "\n",
    "\telse:\n",
    "\t\tmerged_df = pd.concat([merged_df, df])\n",
    "\n",
    "\tused_files += 1\n",
    "\n",
    "print(\"Used files: \", used_files)"
   ]
  }
 ],
 "metadata": {
  "interpreter": {
   "hash": "592a46525cd41fc2034ee9308cd602c1c2afda19be282adc91ea849179671fc9"
  },
  "kernelspec": {
   "display_name": "Python 3.9.5 ('.venv': venv)",
   "language": "python",
   "name": "python3"
  },
  "language_info": {
   "codemirror_mode": {
    "name": "ipython",
    "version": 3
   },
   "file_extension": ".py",
   "mimetype": "text/x-python",
   "name": "python",
   "nbconvert_exporter": "python",
   "pygments_lexer": "ipython3",
   "version": "3.9.5"
  },
  "orig_nbformat": 4
 },
 "nbformat": 4,
 "nbformat_minor": 2
}
