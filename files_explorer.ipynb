{
 "cells": [
  {
   "cell_type": "code",
   "execution_count": 1,
   "metadata": {},
   "outputs": [],
   "source": [
    "import os\n",
    "from methods.preprocess import Preprocess\n",
    "import pandas as pd\n",
    "from methods.runner import Runner"
   ]
  },
  {
   "cell_type": "code",
   "execution_count": 6,
   "metadata": {},
   "outputs": [
    {
     "name": "stdout",
     "output_type": "stream",
     "text": [
      "Total files:  253\n",
      "Used files:  89\n"
     ]
    }
   ],
   "source": [
    "min_validation_size = 4\n",
    "num_steps = 4\n",
    "validation_split = 0.05\n",
    "min_size = min_validation_size * (num_steps - 1) / validation_split\n",
    "folder = \"data/\"\n",
    "\n",
    "files = sorted(os.listdir(folder))\n",
    "\n",
    "print(\"Total files: \", len(files))\n",
    "used_files = 0\n",
    "\n",
    "preprocess = Preprocess()\n",
    "runner = Runner(None)\n",
    "merged_df = None\n",
    "\n",
    "for file in files:\n",
    "\tdf = pd.read_csv(os.path.join(folder, file), index_col='Period').sort_index()\n",
    "\n",
    "\tif df.shape[0] < min_size:\n",
    "\t\tcontinue\n",
    "\n",
    "\tdf = runner.get_df(df)\n",
    "\n",
    "\tif merged_df is None:\n",
    "\t\tmerged_df = df\n",
    "\n",
    "\telse:\n",
    "\t\tmerged_df = pd.concat([merged_df, df])\n",
    "\n",
    "\tused_files += 1\n",
    "\n",
    "print(\"Used files: \", used_files)"
   ]
  },
  {
   "cell_type": "code",
   "execution_count": 7,
   "metadata": {},
   "outputs": [
    {
     "data": {
      "text/html": [
       "<div>\n",
       "<style scoped>\n",
       "    .dataframe tbody tr th:only-of-type {\n",
       "        vertical-align: middle;\n",
       "    }\n",
       "\n",
       "    .dataframe tbody tr th {\n",
       "        vertical-align: top;\n",
       "    }\n",
       "\n",
       "    .dataframe thead th {\n",
       "        text-align: right;\n",
       "    }\n",
       "</style>\n",
       "<table border=\"1\" class=\"dataframe\">\n",
       "  <thead>\n",
       "    <tr style=\"text-align: right;\">\n",
       "      <th></th>\n",
       "      <th>value</th>\n",
       "    </tr>\n",
       "    <tr>\n",
       "      <th>Period</th>\n",
       "      <th></th>\n",
       "    </tr>\n",
       "  </thead>\n",
       "  <tbody>\n",
       "    <tr>\n",
       "      <th>200001</th>\n",
       "      <td>25169791</td>\n",
       "    </tr>\n",
       "    <tr>\n",
       "      <th>200001</th>\n",
       "      <td>178519057</td>\n",
       "    </tr>\n",
       "    <tr>\n",
       "      <th>200001</th>\n",
       "      <td>3446768506</td>\n",
       "    </tr>\n",
       "    <tr>\n",
       "      <th>200002</th>\n",
       "      <td>51414485</td>\n",
       "    </tr>\n",
       "    <tr>\n",
       "      <th>200002</th>\n",
       "      <td>77830442</td>\n",
       "    </tr>\n",
       "    <tr>\n",
       "      <th>...</th>\n",
       "      <td>...</td>\n",
       "    </tr>\n",
       "    <tr>\n",
       "      <th>202201</th>\n",
       "      <td>35001962614</td>\n",
       "    </tr>\n",
       "    <tr>\n",
       "      <th>202202</th>\n",
       "      <td>34906340161</td>\n",
       "    </tr>\n",
       "    <tr>\n",
       "      <th>202202</th>\n",
       "      <td>3661464024</td>\n",
       "    </tr>\n",
       "    <tr>\n",
       "      <th>202202</th>\n",
       "      <td>20004018826</td>\n",
       "    </tr>\n",
       "    <tr>\n",
       "      <th>202202</th>\n",
       "      <td>62406700356</td>\n",
       "    </tr>\n",
       "  </tbody>\n",
       "</table>\n",
       "<p>12564 rows × 1 columns</p>\n",
       "</div>"
      ],
      "text/plain": [
       "              value\n",
       "Period             \n",
       "200001     25169791\n",
       "200001    178519057\n",
       "200001   3446768506\n",
       "200002     51414485\n",
       "200002     77830442\n",
       "...             ...\n",
       "202201  35001962614\n",
       "202202  34906340161\n",
       "202202   3661464024\n",
       "202202  20004018826\n",
       "202202  62406700356\n",
       "\n",
       "[12564 rows x 1 columns]"
      ]
     },
     "execution_count": 7,
     "metadata": {},
     "output_type": "execute_result"
    }
   ],
   "source": [
    "merged_df.sort_index()"
   ]
  },
  {
   "cell_type": "code",
   "execution_count": null,
   "metadata": {},
   "outputs": [],
   "source": []
  }
 ],
 "metadata": {
  "interpreter": {
   "hash": "592a46525cd41fc2034ee9308cd602c1c2afda19be282adc91ea849179671fc9"
  },
  "kernelspec": {
   "display_name": "Python 3.9.5 ('.venv': venv)",
   "language": "python",
   "name": "python3"
  },
  "language_info": {
   "codemirror_mode": {
    "name": "ipython",
    "version": 3
   },
   "file_extension": ".py",
   "mimetype": "text/x-python",
   "name": "python",
   "nbconvert_exporter": "python",
   "pygments_lexer": "ipython3",
   "version": "3.9.5"
  },
  "orig_nbformat": 4
 },
 "nbformat": 4,
 "nbformat_minor": 2
}
